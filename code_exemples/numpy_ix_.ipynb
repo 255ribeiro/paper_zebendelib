{
 "cells": [
  {
   "cell_type": "code",
   "execution_count": 3,
   "metadata": {},
   "outputs": [],
   "source": [
    "import numpy as np"
   ]
  },
  {
   "cell_type": "code",
   "execution_count": 4,
   "metadata": {},
   "outputs": [
    {
     "name": "stdout",
     "output_type": "stream",
     "text": [
      "[[1 2 3 4]\n",
      " [2 1 5 6]\n",
      " [3 5 1 7]\n",
      " [4 6 7 1]]\n"
     ]
    }
   ],
   "source": [
    "arr = np.array([[1,2,3,4],\n",
    "                [2,1,5,6],\n",
    "                [3,5,1,7],\n",
    "                [4,6,7,1]\n",
    "                            ])\n",
    "print(arr)\n"
   ]
  },
  {
   "cell_type": "code",
   "execution_count": 5,
   "metadata": {},
   "outputs": [
    {
     "name": "stdout",
     "output_type": "stream",
     "text": [
      "index combination:\n",
      " (array([[1],\n",
      "       [2],\n",
      "       [3]]), array([[1, 2, 3]]))\n",
      "extracted matrix:\n",
      " [[1 5 6]\n",
      " [5 1 7]\n",
      " [6 7 1]]\n"
     ]
    }
   ],
   "source": [
    "sub_mat_index = np.ix_([1,2,3], [1,2,3])\n",
    "print(\"index combination:\\n\", sub_mat_index)\n",
    "print(\"extracted matrix:\\n\",arr[sub_mat_index])"
   ]
  },
  {
   "cell_type": "code",
   "execution_count": 6,
   "metadata": {},
   "outputs": [
    {
     "name": "stdout",
     "output_type": "stream",
     "text": [
      "line vectror:\n",
      " [[2 3 4]]\n",
      "column vectror:\n",
      " [[2]\n",
      " [3]\n",
      " [4]]\n"
     ]
    }
   ],
   "source": [
    "sub_mat_vec = np.ix_([0], [1,2,3])\n",
    "print(\"line vectror:\\n\", arr[sub_mat_vec])\n",
    "sub_mat_vec = np.ix_([1,2,3],[0])\n",
    "print(\"column vectror:\\n\", arr[sub_mat_vec])"
   ]
  },
  {
   "cell_type": "code",
   "execution_count": 7,
   "metadata": {},
   "outputs": [
    {
     "name": "stdout",
     "output_type": "stream",
     "text": [
      "index combination:\n",
      " (array([[0],\n",
      "       [2],\n",
      "       [3]]), array([[0, 2, 3]]))\n",
      "extracted matrix:\n",
      " [[1 3 4]\n",
      " [3 1 7]\n",
      " [4 7 1]]\n",
      "column vectror:\n",
      " [[2]\n",
      " [5]\n",
      " [6]]\n"
     ]
    }
   ],
   "source": [
    "sub_mat_index = np.ix_([0,2,3], [0,2,3])\n",
    "print(\"index combination:\\n\", sub_mat_index)\n",
    "print(\"extracted matrix:\\n\",arr[sub_mat_index])\n",
    "sub_mat_vec = np.ix_([0,2,3],[1])\n",
    "print(\"column vectror:\\n\", arr[sub_mat_vec])"
   ]
  },
  {
   "cell_type": "markdown",
   "metadata": {},
   "source": []
  },
  {
   "cell_type": "code",
   "execution_count": 10,
   "metadata": {},
   "outputs": [
    {
     "name": "stdout",
     "output_type": "stream",
     "text": [
      "index combination:\n",
      " (array([[2],\n",
      "       [0],\n",
      "       [3]]), array([[2, 0, 3]]))\n",
      "extracted matrix:\n",
      " [[1 3 7]\n",
      " [3 1 4]\n",
      " [7 4 1]]\n",
      "column vectror:\n",
      " [[5]\n",
      " [2]\n",
      " [6]]\n"
     ]
    }
   ],
   "source": [
    "sub_mat_index = np.ix_([2,0,3], [2,0,3])\n",
    "print(\"index combination:\\n\", sub_mat_index)\n",
    "print(\"extracted matrix:\\n\",arr[sub_mat_index])\n",
    "sub_mat_vec = np.ix_([2,0,3],[1])\n",
    "print(\"column vectror:\\n\", arr[sub_mat_vec])\n"
   ]
  }
 ],
 "metadata": {
  "kernelspec": {
   "display_name": "base",
   "language": "python",
   "name": "python3"
  },
  "language_info": {
   "codemirror_mode": {
    "name": "ipython",
    "version": 3
   },
   "file_extension": ".py",
   "mimetype": "text/x-python",
   "name": "python",
   "nbconvert_exporter": "python",
   "pygments_lexer": "ipython3",
   "version": "3.12.7"
  }
 },
 "nbformat": 4,
 "nbformat_minor": 2
}
