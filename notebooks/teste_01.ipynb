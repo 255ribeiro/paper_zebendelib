{
 "cells": [
  {
   "cell_type": "code",
   "execution_count": 1,
   "metadata": {},
   "outputs": [],
   "source": [
    "import numpy as np \n",
    "import pandas as pd\n",
    "import matplotlib.pyplot as plt\n",
    "import zebende as zb\n",
    "import time"
   ]
  },
  {
   "cell_type": "code",
   "execution_count": 2,
   "metadata": {},
   "outputs": [],
   "source": [
    "url = 'https://tinyurl.com/zbtestdata01'"
   ]
  },
  {
   "cell_type": "code",
   "execution_count": 3,
   "metadata": {},
   "outputs": [],
   "source": [
    "df = pd.read_csv(url)"
   ]
  },
  {
   "cell_type": "code",
   "execution_count": 4,
   "metadata": {},
   "outputs": [],
   "source": [
    "tws =  np.array([4, 5, 7, 9, 11, 13, 16, 20, 23, 28, 33, 38, 45, 52, 60, 69, 79, 91, 104, 119, 135, 154, 174, 198, 223, 252, 285, 321,\n",
    "  362, 407, 457, 513, 575, 645, 723, 809, 905, 1011, 1130, 1261, 1407, 1570])"
   ]
  },
  {
   "cell_type": "code",
   "execution_count": 5,
   "metadata": {},
   "outputs": [
    {
     "name": "stdout",
     "output_type": "stream",
     "text": [
      "<class 'pandas.core.frame.DataFrame'>\n",
      "RangeIndex: 15742 entries, 0 to 15741\n",
      "Data columns (total 4 columns):\n",
      " #   Column  Non-Null Count  Dtype  \n",
      "---  ------  --------------  -----  \n",
      " 0   F3      15742 non-null  float64\n",
      " 1   F6      15742 non-null  float64\n",
      " 2   P3      15742 non-null  float64\n",
      " 3   P6      15742 non-null  float64\n",
      "dtypes: float64(4)\n",
      "memory usage: 492.1 KB\n"
     ]
    }
   ],
   "source": [
    "df.info()"
   ]
  },
  {
   "cell_type": "code",
   "execution_count": 6,
   "metadata": {},
   "outputs": [],
   "source": [
    "\n",
    "mat = df.to_numpy()"
   ]
  },
  {
   "cell_type": "code",
   "execution_count": 7,
   "metadata": {},
   "outputs": [
    {
     "ename": "UnboundLocalError",
     "evalue": "cannot access local variable 'P_DCCA_output_function' where it is not associated with a value",
     "output_type": "error",
     "traceback": [
      "\u001b[31m---------------------------------------------------------------------------\u001b[39m",
      "\u001b[31mUnboundLocalError\u001b[39m                         Traceback (most recent call last)",
      "\u001b[36mCell\u001b[39m\u001b[36m \u001b[39m\u001b[32mIn[7]\u001b[39m\u001b[32m, line 3\u001b[39m\n\u001b[32m      1\u001b[39m start_time = time.time()\n\u001b[32m      2\u001b[39m int_data = zb.integrated_series(mat)\n\u001b[32m----> \u001b[39m\u001b[32m3\u001b[39m dfa, dcca, pdcca = \u001b[43mzb\u001b[49m\u001b[43m.\u001b[49m\u001b[43mp_dcca_pure_python\u001b[49m\u001b[43m(\u001b[49m\u001b[43mint_data\u001b[49m\u001b[43m,\u001b[49m\u001b[43m \u001b[49m\u001b[43mtws\u001b[49m\u001b[43m)\u001b[49m\n\u001b[32m      4\u001b[39m end_time = time.time()\n\u001b[32m      5\u001b[39m \u001b[38;5;28mprint\u001b[39m(\u001b[33mf\u001b[39m\u001b[33m\"\u001b[39m\u001b[33mTime taken: \u001b[39m\u001b[38;5;132;01m{\u001b[39;00mend_time\u001b[38;5;250m \u001b[39m-\u001b[38;5;250m \u001b[39mstart_time\u001b[38;5;132;01m}\u001b[39;00m\u001b[33m seconds\u001b[39m\u001b[33m\"\u001b[39m)\n",
      "\u001b[36mFile \u001b[39m\u001b[32md:\\gitrepos\\papers\\paper_zebendelib\\.venv\\Lib\\site-packages\\zebende\\p_dcca_pure_python.py:72\u001b[39m, in \u001b[36mp_dcca_pure_python\u001b[39m\u001b[34m(data, tws, DCCA_of, P_DCCA_output_format)\u001b[39m\n\u001b[32m     69\u001b[39m     DCCA_arr[n_index, :] = dcca_n.mean(axis=\u001b[32m0\u001b[39m)\n\u001b[32m     71\u001b[39m     \u001b[38;5;66;03m# calculation of P_DCCA\u001b[39;00m\n\u001b[32m---> \u001b[39m\u001b[32m72\u001b[39m     \u001b[43mP_DCCA_output_function\u001b[49m(n_index, DCCA_of, F_DFA_arr, DCCA_arr, P_DCCA_arr)\n\u001b[32m     74\u001b[39m \u001b[38;5;28;01mreturn\u001b[39;00m F_DFA_arr, DCCA_arr, P_DCCA_arr\n",
      "\u001b[31mUnboundLocalError\u001b[39m: cannot access local variable 'P_DCCA_output_function' where it is not associated with a value"
     ]
    }
   ],
   "source": [
    "start_time = time.time()\n",
    "int_data = zb.integrated_series(mat)\n",
    "dfa, dcca, pdcca = zb.p_dcca_pure_python(int_data, tws)\n",
    "end_time = time.time()\n",
    "print(f\"Time taken: {end_time - start_time} seconds\")"
   ]
  }
 ],
 "metadata": {
  "kernelspec": {
   "display_name": ".venv",
   "language": "python",
   "name": "python3"
  },
  "language_info": {
   "codemirror_mode": {
    "name": "ipython",
    "version": 3
   },
   "file_extension": ".py",
   "mimetype": "text/x-python",
   "name": "python",
   "nbconvert_exporter": "python",
   "pygments_lexer": "ipython3",
   "version": "3.12.4"
  }
 },
 "nbformat": 4,
 "nbformat_minor": 2
}
