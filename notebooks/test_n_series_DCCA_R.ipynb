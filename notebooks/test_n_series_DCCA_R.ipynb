{
 "cells": [
  {
   "cell_type": "code",
   "execution_count": null,
   "metadata": {},
   "outputs": [],
   "source": [
    "require(combinat)\n",
    "require(\"DCCA\")"
   ]
  },
  {
   "cell_type": "code",
   "execution_count": null,
   "metadata": {},
   "outputs": [],
   "source": [
    "series_count <- 4 # select the number of series to run"
   ]
  },
  {
   "cell_type": "code",
   "execution_count": null,
   "metadata": {},
   "outputs": [],
   "source": [
    "# define time windows scales\n",
    "tws <- c(4, 5, 7, 9, 11, 13, 16, 20, 23, 28, 33,\n",
    "         38, 45, 52, 60, 69, 79, 91, 104, 119,\n",
    "         135, 154, 174, 198, 223, 252, 285, 321,\n",
    "         362, 407, 457, 513, 575, 645, 723, 809,\n",
    "         905, 1011, 1130, 1261, 1407, 1570)\n",
    "cat(\"Number of time windows scales: \", length(tws), \"\\n\")"
   ]
  },
  {
   "cell_type": "code",
   "execution_count": null,
   "metadata": {},
   "outputs": [],
   "source": [
    "data <- read.csv(\"https://tinyurl.com/zbtestdata64c\")# load data\n",
    "data <- data[, 1:series_count] # filter columns"
   ]
  },
  {
   "cell_type": "code",
   "execution_count": null,
   "metadata": {},
   "outputs": [],
   "source": [
    "start_time <- Sys.time() # start time stamp\n",
    "dcca_of <- combn(c(1:series_count), 2)\n",
    "cat(\"Number of series:\", length(data), \"\\n\")\n",
    "result_dcca_pkg <- list()\n",
    "for(i in seq_len(dim(dcca_of)[2])){\n",
    "  s1 <- data[[dcca_of[, i][1]]] # selecting first series\n",
    "  s2 <- data[[dcca_of[, i][2]]] # selecting second series\n",
    "  cat(\"Series: \", dcca_of[, i][1], \" and \", dcca_of[, i][2], \"\\n\")\n",
    "  temp <- rhodcca(s1, s2, m = tws, nu = 1, overlap = TRUE) # Pdcca calculations\n",
    "  result_dcca_pkg <- append(result_dcca_pkg, temp,  # collecting results\n",
    "                            after = length(result_dcca_pkg))\n",
    "}\n",
    "end_time <- Sys.time() #end time stamp\n",
    "elapsed_dcca_pkg <- end_time - start_time #elapsed time\n",
    "cat(\"elapsed time: \", elapsed_dcca_pkg, \"\\n\")"
   ]
  }
 ],
 "metadata": {
  "language_info": {
   "name": "python"
  }
 },
 "nbformat": 4,
 "nbformat_minor": 2
}
