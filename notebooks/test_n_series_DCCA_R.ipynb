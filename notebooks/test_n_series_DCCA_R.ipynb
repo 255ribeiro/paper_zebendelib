{
  "cells": [
    {
      "cell_type": "markdown",
      "metadata": {
        "id": "view-in-github",
        "colab_type": "text"
      },
      "source": [
        "<a href=\"https://colab.research.google.com/github/255ribeiro/paper_zebendelib/blob/main/notebooks/test_n_series_DCCA_R.ipynb\" target=\"_parent\"><img src=\"https://colab.research.google.com/assets/colab-badge.svg\" alt=\"Open In Colab\"/></a>"
      ]
    },
    {
      "cell_type": "code",
      "execution_count": null,
      "metadata": {
        "vscode": {
          "languageId": "r"
        },
        "id": "DlW2khUUXRT_"
      },
      "outputs": [],
      "source": [
        "require(combinat)\n",
        "require(\"DCCA\")"
      ]
    },
    {
      "cell_type": "markdown",
      "source": [
        "## Set The number of time series to run the tests"
      ],
      "metadata": {
        "id": "WqmhIGldXTdg"
      }
    },
    {
      "cell_type": "code",
      "execution_count": null,
      "metadata": {
        "vscode": {
          "languageId": "r"
        },
        "id": "cVmjPi_BXRUB"
      },
      "outputs": [],
      "source": [
        "series_count <- 4 # select the number of series to run"
      ]
    },
    {
      "cell_type": "code",
      "execution_count": null,
      "metadata": {
        "vscode": {
          "languageId": "r"
        },
        "id": "GYNLia_VXRUC",
        "outputId": "14df12b5-2cc2-436d-f983-615b2f0d4590"
      },
      "outputs": [
        {
          "name": "stdout",
          "output_type": "stream",
          "text": [
            "Number of time windows scales:  42 \n"
          ]
        }
      ],
      "source": [
        "# define time windows scales\n",
        "tws <- c(4, 5, 7, 9, 11, 13, 16, 20, 23, 28, 33,\n",
        "         38, 45, 52, 60, 69, 79, 91, 104, 119,\n",
        "         135, 154, 174, 198, 223, 252, 285, 321,\n",
        "         362, 407, 457, 513, 575, 645, 723, 809,\n",
        "         905, 1011, 1130, 1261, 1407, 1570)\n",
        "cat(\"Number of time windows scales: \", length(tws), \"\\n\")"
      ]
    },
    {
      "cell_type": "code",
      "execution_count": null,
      "metadata": {
        "vscode": {
          "languageId": "r"
        },
        "id": "ghhoiordXRUD"
      },
      "outputs": [],
      "source": [
        "data <- read.csv(\"https://tinyurl.com/zbtestdata64c\")# load data\n",
        "data <- data[, 1:series_count] # filter columns"
      ]
    },
    {
      "cell_type": "code",
      "execution_count": null,
      "metadata": {
        "vscode": {
          "languageId": "r"
        },
        "id": "erjGn1NEXRUD",
        "outputId": "35a58f93-423f-47c2-b445-ec1801771c05"
      },
      "outputs": [
        {
          "name": "stdout",
          "output_type": "stream",
          "text": [
            "Number of series: 4 \n",
            "Series:  1  and  2 \n",
            "Series:  1  and  3 \n",
            "Series:  1  and  4 \n",
            "Series:  2  and  3 \n",
            "Series:  2  and  4 \n",
            "Series:  3  and  4 \n",
            "elapsed time:  36.1735 \n"
          ]
        }
      ],
      "source": [
        "start_time <- Sys.time() # start time stamp\n",
        "dcca_of <- combn(c(1:series_count), 2)\n",
        "cat(\"Number of series:\", length(data), \"\\n\")\n",
        "result_dcca_pkg <- list()\n",
        "for(i in seq_len(dim(dcca_of)[2])){\n",
        "  s1 <- data[[dcca_of[, i][1]]] # selecting first series\n",
        "  s2 <- data[[dcca_of[, i][2]]] # selecting second series\n",
        "  print(paste(\"Series: \", dcca_of[, i][1], \" and \", dcca_of[, i][2]))\n",
        "  temp <- rhodcca(s1, s2, m = tws, nu = 1, overlap = TRUE) # Pdcca calculations\n",
        "  result_dcca_pkg <- append(result_dcca_pkg, temp,  # collecting results\n",
        "                            after = length(result_dcca_pkg))\n",
        "}\n",
        "end_time <- Sys.time() #end time stamp\n",
        "elapsed_dcca_pkg <- end_time - start_time #elapsed time\n",
        "print(elapsed_dcca_pkg) # print elapsed time"
      ]
    }
  ],
  "metadata": {
    "kernelspec": {
      "display_name": "R",
      "language": "R",
      "name": "ir"
    },
    "language_info": {
      "codemirror_mode": "r",
      "file_extension": ".r",
      "mimetype": "text/x-r-source",
      "name": "R",
      "pygments_lexer": "r",
      "version": "4.4.1"
    },
    "colab": {
      "provenance": [],
      "include_colab_link": true
    }
  },
  "nbformat": 4,
  "nbformat_minor": 0
}