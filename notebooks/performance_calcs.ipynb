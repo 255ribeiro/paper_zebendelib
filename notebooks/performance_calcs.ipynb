{
 "cells": [
  {
   "cell_type": "code",
   "execution_count": 67,
   "id": "a3cf2391",
   "metadata": {},
   "outputs": [],
   "source": [
    "import pandas as pd\n",
    "import numpy as np"
   ]
  },
  {
   "cell_type": "code",
   "execution_count": 68,
   "id": "f81508ce",
   "metadata": {},
   "outputs": [],
   "source": [
    "def perf_inc(value, reference):\n",
    "    return ((value - reference) / reference) * 100\n"
   ]
  },
  {
   "cell_type": "code",
   "execution_count": 69,
   "id": "6afb86bc",
   "metadata": {},
   "outputs": [],
   "source": [
    "elapsed_4 = dict( zig_opt = 35.88,\n",
    "                 zig_basic = 59.74,\n",
    "                 DCCA_python = 447.67,\n",
    "                 DCCA_RJAVA = 36.77*60,\n",
    "                 zeb_python = 3_076.23,\n",
    "                 DFA = 7.81*60**2\n",
    "                )\n"
   ]
  },
  {
   "cell_type": "code",
   "execution_count": 70,
   "id": "ccf14909",
   "metadata": {},
   "outputs": [],
   "source": [
    "elapsed_12 = dict( zig_opt = 120.55,\n",
    "                 zig_basic = 213.08,\n",
    "                 DCCA_python = 4_675.17,\n",
    "                 DCCA_RJAVA = 8.05*60**2,\n",
    "                 zeb_python = 3_761.40,\n",
    "                 DFA = 85.91*60**2\n",
    "                )"
   ]
  },
  {
   "cell_type": "code",
   "execution_count": 75,
   "id": "7233cae4",
   "metadata": {},
   "outputs": [
    {
     "data": {
      "application/vnd.microsoft.datawrangler.viewer.v0+json": {
       "columns": [
        {
         "name": "index",
         "rawType": "object",
         "type": "string"
        },
        {
         "name": "4_series",
         "rawType": "float64",
         "type": "float"
        },
        {
         "name": "12_series",
         "rawType": "float64",
         "type": "float"
        }
       ],
       "conversionMethod": "pd.DataFrame",
       "ref": "bcb53528-0802-48b9-8929-11c8ae185c06",
       "rows": [
        [
         "zig_opt",
         "35.88",
         "120.55"
        ],
        [
         "zig_basic",
         "59.74",
         "213.08"
        ],
        [
         "DCCA_python",
         "447.67",
         "4675.17"
        ],
        [
         "DCCA_RJAVA",
         "2206.2",
         "28980.0"
        ],
        [
         "zeb_python",
         "3076.23",
         "3761.4"
        ],
        [
         "DFA",
         "28116.0",
         "309276.0"
        ]
       ],
       "shape": {
        "columns": 2,
        "rows": 6
       }
      },
      "text/html": [
       "<div>\n",
       "<style scoped>\n",
       "    .dataframe tbody tr th:only-of-type {\n",
       "        vertical-align: middle;\n",
       "    }\n",
       "\n",
       "    .dataframe tbody tr th {\n",
       "        vertical-align: top;\n",
       "    }\n",
       "\n",
       "    .dataframe thead th {\n",
       "        text-align: right;\n",
       "    }\n",
       "</style>\n",
       "<table border=\"1\" class=\"dataframe\">\n",
       "  <thead>\n",
       "    <tr style=\"text-align: right;\">\n",
       "      <th></th>\n",
       "      <th>4_series</th>\n",
       "      <th>12_series</th>\n",
       "    </tr>\n",
       "  </thead>\n",
       "  <tbody>\n",
       "    <tr>\n",
       "      <th>zig_opt</th>\n",
       "      <td>35.88</td>\n",
       "      <td>120.55</td>\n",
       "    </tr>\n",
       "    <tr>\n",
       "      <th>zig_basic</th>\n",
       "      <td>59.74</td>\n",
       "      <td>213.08</td>\n",
       "    </tr>\n",
       "    <tr>\n",
       "      <th>DCCA_python</th>\n",
       "      <td>447.67</td>\n",
       "      <td>4675.17</td>\n",
       "    </tr>\n",
       "    <tr>\n",
       "      <th>DCCA_RJAVA</th>\n",
       "      <td>2206.20</td>\n",
       "      <td>28980.00</td>\n",
       "    </tr>\n",
       "    <tr>\n",
       "      <th>zeb_python</th>\n",
       "      <td>3076.23</td>\n",
       "      <td>3761.40</td>\n",
       "    </tr>\n",
       "    <tr>\n",
       "      <th>DFA</th>\n",
       "      <td>28116.00</td>\n",
       "      <td>309276.00</td>\n",
       "    </tr>\n",
       "  </tbody>\n",
       "</table>\n",
       "</div>"
      ],
      "text/plain": [
       "             4_series  12_series\n",
       "zig_opt         35.88     120.55\n",
       "zig_basic       59.74     213.08\n",
       "DCCA_python    447.67    4675.17\n",
       "DCCA_RJAVA    2206.20   28980.00\n",
       "zeb_python    3076.23    3761.40\n",
       "DFA          28116.00  309276.00"
      ]
     },
     "execution_count": 75,
     "metadata": {},
     "output_type": "execute_result"
    }
   ],
   "source": [
    "df = pd.DataFrame([elapsed_4, elapsed_12]).T.round(2)\n",
    "df.columns = ['4_series', '12_series']\n",
    "df"
   ]
  },
  {
   "cell_type": "code",
   "execution_count": 77,
   "id": "08c458d3",
   "metadata": {},
   "outputs": [
    {
     "data": {
      "text/plain": [
       "4_series      35.88\n",
       "12_series    120.55\n",
       "Name: zig_opt, dtype: float64"
      ]
     },
     "execution_count": 77,
     "metadata": {},
     "output_type": "execute_result"
    }
   ],
   "source": [
    "df.iloc[0,:]"
   ]
  },
  {
   "cell_type": "code",
   "execution_count": null,
   "id": "8a8310f5",
   "metadata": {},
   "outputs": [
    {
     "data": {
      "application/vnd.microsoft.datawrangler.viewer.v0+json": {
       "columns": [
        {
         "name": "index",
         "rawType": "object",
         "type": "string"
        },
        {
         "name": "4_series",
         "rawType": "float64",
         "type": "float"
        },
        {
         "name": "12_series",
         "rawType": "float64",
         "type": "float"
        }
       ],
       "conversionMethod": "pd.DataFrame",
       "ref": "030e2581-6a19-4a33-af76-b4c91982aeb0",
       "rows": [
        [
         "zig_opt",
         "0.0",
         "0.0"
        ],
        [
         "zig_basic",
         "66.5",
         "76.76"
        ],
        [
         "DCCA_python",
         "1147.69",
         "3778.2"
        ],
        [
         "DCCA_RJAVA",
         "6048.83",
         "23939.82"
        ],
        [
         "zeb_python",
         "8473.66",
         "3020.2"
        ],
        [
         "DFA",
         "78261.2",
         "256454.13"
        ]
       ],
       "shape": {
        "columns": 2,
        "rows": 6
       }
      },
      "text/html": [
       "<div>\n",
       "<style scoped>\n",
       "    .dataframe tbody tr th:only-of-type {\n",
       "        vertical-align: middle;\n",
       "    }\n",
       "\n",
       "    .dataframe tbody tr th {\n",
       "        vertical-align: top;\n",
       "    }\n",
       "\n",
       "    .dataframe thead th {\n",
       "        text-align: right;\n",
       "    }\n",
       "</style>\n",
       "<table border=\"1\" class=\"dataframe\">\n",
       "  <thead>\n",
       "    <tr style=\"text-align: right;\">\n",
       "      <th></th>\n",
       "      <th>4_series</th>\n",
       "      <th>12_series</th>\n",
       "    </tr>\n",
       "  </thead>\n",
       "  <tbody>\n",
       "    <tr>\n",
       "      <th>zig_opt</th>\n",
       "      <td>0.00</td>\n",
       "      <td>0.00</td>\n",
       "    </tr>\n",
       "    <tr>\n",
       "      <th>zig_basic</th>\n",
       "      <td>66.50</td>\n",
       "      <td>76.76</td>\n",
       "    </tr>\n",
       "    <tr>\n",
       "      <th>DCCA_python</th>\n",
       "      <td>1147.69</td>\n",
       "      <td>3778.20</td>\n",
       "    </tr>\n",
       "    <tr>\n",
       "      <th>DCCA_RJAVA</th>\n",
       "      <td>6048.83</td>\n",
       "      <td>23939.82</td>\n",
       "    </tr>\n",
       "    <tr>\n",
       "      <th>zeb_python</th>\n",
       "      <td>8473.66</td>\n",
       "      <td>3020.20</td>\n",
       "    </tr>\n",
       "    <tr>\n",
       "      <th>DFA</th>\n",
       "      <td>78261.20</td>\n",
       "      <td>256454.13</td>\n",
       "    </tr>\n",
       "  </tbody>\n",
       "</table>\n",
       "</div>"
      ],
      "text/plain": [
       "             4_series  12_series\n",
       "zig_opt          0.00       0.00\n",
       "zig_basic       66.50      76.76\n",
       "DCCA_python   1147.69    3778.20\n",
       "DCCA_RJAVA    6048.83   23939.82\n",
       "zeb_python    8473.66    3020.20\n",
       "DFA          78261.20  256454.13"
      ]
     },
     "execution_count": 76,
     "metadata": {},
     "output_type": "execute_result"
    }
   ],
   "source": [
    "df_performance = perf_inc(df, df.iloc[0,:]).round(2)\n",
    "df_performance"
   ]
  }
 ],
 "metadata": {
  "kernelspec": {
   "display_name": ".venv",
   "language": "python",
   "name": "python3"
  },
  "language_info": {
   "codemirror_mode": {
    "name": "ipython",
    "version": 3
   },
   "file_extension": ".py",
   "mimetype": "text/x-python",
   "name": "python",
   "nbconvert_exporter": "python",
   "pygments_lexer": "ipython3",
   "version": "3.12.4"
  }
 },
 "nbformat": 4,
 "nbformat_minor": 5
}
