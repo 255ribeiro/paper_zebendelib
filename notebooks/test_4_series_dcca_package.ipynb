{
 "cells": [
  {
   "cell_type": "code",
   "execution_count": 1,
   "metadata": {},
   "outputs": [],
   "source": [
    "import numpy as np \n",
    "import pandas as pd\n",
    "import matplotlib.pyplot as plt\n",
    "from dcca import detrended_correlation\n",
    "from itertools import combinations\n",
    "\n",
    "import time"
   ]
  },
  {
   "cell_type": "code",
   "execution_count": 2,
   "metadata": {},
   "outputs": [],
   "source": [
    "series_count = 4"
   ]
  },
  {
   "cell_type": "code",
   "execution_count": 3,
   "metadata": {},
   "outputs": [],
   "source": [
    "url = 'https://tinyurl.com/zbtestdata64c'"
   ]
  },
  {
   "cell_type": "code",
   "execution_count": 4,
   "metadata": {},
   "outputs": [
    {
     "name": "stdout",
     "output_type": "stream",
     "text": [
      "(19920, 64)\n"
     ]
    },
    {
     "data": {
      "text/plain": [
       "(19920, 4)"
      ]
     },
     "execution_count": 4,
     "metadata": {},
     "output_type": "execute_result"
    }
   ],
   "source": [
    "df = pd.read_csv(url)\n",
    "print(df.shape)\n",
    "df = df.iloc[:, :series_count]\n",
    "df.shape"
   ]
  },
  {
   "cell_type": "code",
   "execution_count": 5,
   "metadata": {},
   "outputs": [],
   "source": [
    "tws =  np.array([4, 5, 7, 9, 11, 13, 16, 20, 23, 28, 33, 38, 45, 52, 60, 69, 79, 91, 104, 119, 135, 154, 174, 198, 223, 252, 285, 321,\n",
    "  362, 407, 457, 513, 575, 645, 723, 809, 905, 1011, 1130, 1261, 1407, 1570])"
   ]
  },
  {
   "cell_type": "code",
   "execution_count": 6,
   "metadata": {},
   "outputs": [
    {
     "name": "stdout",
     "output_type": "stream",
     "text": [
      "<class 'pandas.core.frame.DataFrame'>\n",
      "RangeIndex: 19920 entries, 0 to 19919\n",
      "Data columns (total 4 columns):\n",
      " #   Column  Non-Null Count  Dtype  \n",
      "---  ------  --------------  -----  \n",
      " 0   Fc5.    19920 non-null  float64\n",
      " 1   Fc3.    19920 non-null  float64\n",
      " 2   Fc1.    19920 non-null  float64\n",
      " 3   Fcz.    19920 non-null  float64\n",
      "dtypes: float64(4)\n",
      "memory usage: 622.6 KB\n"
     ]
    }
   ],
   "source": [
    "df.info()"
   ]
  },
  {
   "cell_type": "code",
   "execution_count": 7,
   "metadata": {},
   "outputs": [
    {
     "name": "stdout",
     "output_type": "stream",
     "text": [
      "[[-5.7e-05 -1.3e-05 -1.5e-05 -1.2e-05]\n",
      " [-4.9e-05 -1.1e-05 -1.0e-05 -1.2e-05]\n",
      " [-5.5e-05 -1.7e-05 -1.6e-05 -1.9e-05]\n",
      " ...\n",
      " [ 2.3e-05  1.4e-05  1.1e-05  3.0e-06]\n",
      " [ 3.8e-05  2.7e-05  2.8e-05  1.9e-05]\n",
      " [ 5.0e-05  3.5e-05  4.1e-05  4.0e-05]]\n"
     ]
    }
   ],
   "source": [
    "mat = df.to_numpy()\n",
    "print(mat)"
   ]
  },
  {
   "cell_type": "code",
   "execution_count": 8,
   "metadata": {},
   "outputs": [
    {
     "name": "stdout",
     "output_type": "stream",
     "text": [
      "Time taken: 447.6767828464508 seconds\n"
     ]
    }
   ],
   "source": [
    "start_time = time.time()\n",
    "DCCA_of = np.array(list(combinations(range(mat.shape[1]), 2)), dtype=np.uintp)\n",
    "P_DCCA_arr = np.full(shape=(tws.shape[0], DCCA_of.shape[0]) ,fill_value=np.nan, dtype=mat.dtype)\n",
    "for n_index, n in enumerate(tws):\n",
    "    for i in DCCA_of:\n",
    "        x = mat[:,i[0]] # selecting series x\n",
    "        y = mat[:,i[1]] # selecting series y\n",
    "        P_DCCA_arr[n_index, i] = detrended_correlation(x=x, y=y, time_scale=n, time_lag=0) # Pdcca calculations\n",
    "end_time = time.time()\n",
    "print(f\"Time taken: {end_time - start_time} seconds\")"
   ]
  },
  {
   "cell_type": "code",
   "execution_count": 9,
   "metadata": {},
   "outputs": [
    {
     "data": {
      "text/plain": [
       "array([[0.711603  , 0.86202915, 0.94934976, 0.94934976,        nan,\n",
       "               nan],\n",
       "       [0.71426117, 0.86061591, 0.94893878, 0.94893878,        nan,\n",
       "               nan],\n",
       "       [0.72682409, 0.86457286, 0.95037339, 0.95037339,        nan,\n",
       "               nan],\n",
       "       [0.74153566, 0.87128318, 0.95264993, 0.95264993,        nan,\n",
       "               nan],\n",
       "       [0.75228129, 0.87656902, 0.95463692, 0.95463692,        nan,\n",
       "               nan],\n",
       "       [0.75910587, 0.88018155, 0.95624604, 0.95624604,        nan,\n",
       "               nan],\n",
       "       [0.7652045 , 0.88405868, 0.9581963 , 0.9581963 ,        nan,\n",
       "               nan],\n",
       "       [0.76939633, 0.88749448, 0.96017297, 0.96017297,        nan,\n",
       "               nan],\n",
       "       [0.77144186, 0.88919548, 0.96126435, 0.96126435,        nan,\n",
       "               nan],\n",
       "       [0.77468045, 0.89153095, 0.96270617, 0.96270617,        nan,\n",
       "               nan],\n",
       "       [0.77798498, 0.89375359, 0.96390296, 0.96390296,        nan,\n",
       "               nan],\n",
       "       [0.78159416, 0.89589861, 0.96493454, 0.96493454,        nan,\n",
       "               nan],\n",
       "       [0.78625125, 0.8985554 , 0.96611313, 0.96611313,        nan,\n",
       "               nan],\n",
       "       [0.78917762, 0.9002065 , 0.96685802, 0.96685802,        nan,\n",
       "               nan],\n",
       "       [0.79177176, 0.90160104, 0.9674672 , 0.9674672 ,        nan,\n",
       "               nan],\n",
       "       [0.79457286, 0.90297651, 0.96801695, 0.96801695,        nan,\n",
       "               nan],\n",
       "       [0.79754202, 0.90431324, 0.9685529 , 0.9685529 ,        nan,\n",
       "               nan],\n",
       "       [0.80079205, 0.90567437, 0.96909317, 0.96909317,        nan,\n",
       "               nan],\n",
       "       [0.80354186, 0.90673772, 0.96951284, 0.96951284,        nan,\n",
       "               nan],\n",
       "       [0.80604881, 0.9075675 , 0.96981856, 0.96981856,        nan,\n",
       "               nan],\n",
       "       [0.80864934, 0.90846575, 0.97008271, 0.97008271,        nan,\n",
       "               nan],\n",
       "       [0.81158973, 0.90955746, 0.97037719, 0.97037719,        nan,\n",
       "               nan],\n",
       "       [0.81367511, 0.9103931 , 0.97059366, 0.97059366,        nan,\n",
       "               nan],\n",
       "       [0.81505321, 0.91107487, 0.97074917, 0.97074917,        nan,\n",
       "               nan],\n",
       "       [0.81576046, 0.91153328, 0.97081619, 0.97081619,        nan,\n",
       "               nan],\n",
       "       [0.81618931, 0.91189215, 0.97082088, 0.97082088,        nan,\n",
       "               nan],\n",
       "       [0.8166734 , 0.91226068, 0.97078767, 0.97078767,        nan,\n",
       "               nan],\n",
       "       [0.81727301, 0.91261927, 0.9707041 , 0.9707041 ,        nan,\n",
       "               nan],\n",
       "       [0.81795513, 0.91302268, 0.97058479, 0.97058479,        nan,\n",
       "               nan],\n",
       "       [0.81844259, 0.91325463, 0.97038544, 0.97038544,        nan,\n",
       "               nan],\n",
       "       [0.81891451, 0.91335348, 0.97011364, 0.97011364,        nan,\n",
       "               nan],\n",
       "       [0.81927087, 0.91332092, 0.96975062, 0.96975062,        nan,\n",
       "               nan],\n",
       "       [0.81934487, 0.9130092 , 0.96924653, 0.96924653,        nan,\n",
       "               nan],\n",
       "       [0.81948877, 0.91266973, 0.96865987, 0.96865987,        nan,\n",
       "               nan],\n",
       "       [0.81956113, 0.91226542, 0.96798575, 0.96798575,        nan,\n",
       "               nan],\n",
       "       [0.81934485, 0.91164392, 0.96715319, 0.96715319,        nan,\n",
       "               nan],\n",
       "       [0.81891847, 0.91085804, 0.96619247, 0.96619247,        nan,\n",
       "               nan],\n",
       "       [0.8184692 , 0.91009897, 0.96513474, 0.96513474,        nan,\n",
       "               nan],\n",
       "       [0.81783867, 0.90929441, 0.96399057, 0.96399057,        nan,\n",
       "               nan],\n",
       "       [0.81752623, 0.90864842, 0.96298766, 0.96298766,        nan,\n",
       "               nan],\n",
       "       [0.81754472, 0.90827659, 0.96229995, 0.96229995,        nan,\n",
       "               nan],\n",
       "       [0.81742775, 0.90794255, 0.96175247, 0.96175247,        nan,\n",
       "               nan]])"
      ]
     },
     "execution_count": 9,
     "metadata": {},
     "output_type": "execute_result"
    }
   ],
   "source": [
    "P_DCCA_arr"
   ]
  }
 ],
 "metadata": {
  "kernelspec": {
   "display_name": ".venv",
   "language": "python",
   "name": "python3"
  },
  "language_info": {
   "codemirror_mode": {
    "name": "ipython",
    "version": 3
   },
   "file_extension": ".py",
   "mimetype": "text/x-python",
   "name": "python",
   "nbconvert_exporter": "python",
   "pygments_lexer": "ipython3",
   "version": "3.12.4"
  }
 },
 "nbformat": 4,
 "nbformat_minor": 2
}
