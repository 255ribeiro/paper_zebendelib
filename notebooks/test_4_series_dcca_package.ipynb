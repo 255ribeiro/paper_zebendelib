{
 "cells": [
  {
   "cell_type": "code",
   "execution_count": 1,
   "metadata": {},
   "outputs": [],
   "source": [
    "import numpy as np \n",
    "import pandas as pd\n",
    "import matplotlib.pyplot as plt\n",
    "from dcca import detrended_correlation\n",
    "from itertools import combinations\n",
    "\n",
    "\n",
    "import time"
   ]
  },
  {
   "cell_type": "code",
   "execution_count": 2,
   "metadata": {},
   "outputs": [],
   "source": [
    "series_count = 8"
   ]
  },
  {
   "cell_type": "code",
   "execution_count": 3,
   "metadata": {},
   "outputs": [],
   "source": [
    "url = 'https://tinyurl.com/zbtestdata64c'\n",
    "\n"
   ]
  },
  {
   "cell_type": "code",
   "execution_count": 4,
   "metadata": {},
   "outputs": [
    {
     "name": "stdout",
     "output_type": "stream",
     "text": [
      "(19920, 64)\n"
     ]
    },
    {
     "data": {
      "text/plain": [
       "(19920, 8)"
      ]
     },
     "execution_count": 4,
     "metadata": {},
     "output_type": "execute_result"
    }
   ],
   "source": [
    "df = pd.read_csv(url)\n",
    "print(df.shape)\n",
    "df = df.iloc[:, :series_count]\n",
    "df.shape"
   ]
  },
  {
   "cell_type": "code",
   "execution_count": 5,
   "metadata": {},
   "outputs": [],
   "source": [
    "tws =  np.array([4, 5, 7, 9, 11, 13, 16, 20, 23, 28, 33, 38, 45, 52, 60, 69, 79, 91, 104, 119, 135, 154, 174, 198, 223, 252, 285, 321,\n",
    "  362, 407, 457, 513, 575, 645, 723, 809, 905, 1011, 1130, 1261, 1407, 1570])"
   ]
  },
  {
   "cell_type": "code",
   "execution_count": 6,
   "metadata": {},
   "outputs": [
    {
     "name": "stdout",
     "output_type": "stream",
     "text": [
      "<class 'pandas.core.frame.DataFrame'>\n",
      "RangeIndex: 19920 entries, 0 to 19919\n",
      "Data columns (total 8 columns):\n",
      " #   Column  Non-Null Count  Dtype  \n",
      "---  ------  --------------  -----  \n",
      " 0   Fc5.    19920 non-null  float64\n",
      " 1   Fc3.    19920 non-null  float64\n",
      " 2   Fc1.    19920 non-null  float64\n",
      " 3   Fcz.    19920 non-null  float64\n",
      " 4   Fc2.    19920 non-null  float64\n",
      " 5   Fc4.    19920 non-null  float64\n",
      " 6   Fc6.    19920 non-null  float64\n",
      " 7   C5..    19920 non-null  float64\n",
      "dtypes: float64(8)\n",
      "memory usage: 1.2 MB\n"
     ]
    }
   ],
   "source": [
    "df.info()"
   ]
  },
  {
   "cell_type": "code",
   "execution_count": 7,
   "metadata": {},
   "outputs": [
    {
     "name": "stdout",
     "output_type": "stream",
     "text": [
      "[[-5.7e-05 -1.3e-05 -1.5e-05 ... -8.0e-06 -4.0e-05 -5.4e-05]\n",
      " [-4.9e-05 -1.1e-05 -1.0e-05 ... -2.4e-05 -5.8e-05 -5.1e-05]\n",
      " [-5.5e-05 -1.7e-05 -1.6e-05 ... -2.9e-05 -6.6e-05 -6.1e-05]\n",
      " ...\n",
      " [ 2.3e-05  1.4e-05  1.1e-05 ... -3.0e-06  1.0e-06  2.1e-05]\n",
      " [ 3.8e-05  2.7e-05  2.8e-05 ...  1.2e-05  9.0e-06  3.4e-05]\n",
      " [ 5.0e-05  3.5e-05  4.1e-05 ...  2.6e-05  2.0e-05  2.6e-05]]\n"
     ]
    }
   ],
   "source": [
    "mat = df.to_numpy()\n",
    "print(mat)"
   ]
  },
  {
   "cell_type": "code",
   "execution_count": null,
   "metadata": {},
   "outputs": [
    {
     "name": "stdout",
     "output_type": "stream",
     "text": [
      "(19920,)\n",
      "(19920,)\n",
      "(19920,)\n",
      "(19920,)\n",
      "(19920,)\n"
     ]
    }
   ],
   "source": [
    "result_list =[]\n",
    "start_time = time.time()\n",
    "dcca_of = combinations(range(len(df.columns)), 2)\n",
    "for i in dcca_of:\n",
    "    x = mat[:,i[0]]\n",
    "    y = mat[:,i[1]]\n",
    "    print(x.shape)\n",
    "    temp = []\n",
    "    for j in tws:\n",
    "        temp.append( detrended_correlation(x=x, y=y, time_scale=j, time_lag=0) )\n",
    "    result_list.append(temp)\n",
    "end_time = time.time()\n",
    "print(f\"Time taken: {end_time - start_time} seconds\")"
   ]
  },
  {
   "cell_type": "code",
   "execution_count": null,
   "metadata": {},
   "outputs": [
    {
     "data": {
      "text/plain": [
       "[[np.float64(0.920127026798953),\n",
       "  np.float64(0.8210331245806517),\n",
       "  np.float64(0.7116030039956598),\n",
       "  np.float64(0.6735328102370122),\n",
       "  np.float64(0.6179228589454193),\n",
       "  np.float64(0.9554356701164541),\n",
       "  np.float64(0.8620291498222451),\n",
       "  np.float64(0.8232448681477421),\n",
       "  np.float64(0.7570509167447026),\n",
       "  np.float64(0.9493497614364492),\n",
       "  np.float64(0.9136518262839727),\n",
       "  np.float64(0.8381102479669378),\n",
       "  np.float64(0.95885945568144),\n",
       "  np.float64(0.8855638178860612),\n",
       "  np.float64(0.9570850099663539)],\n",
       " [],\n",
       " [],\n",
       " [],\n",
       " [],\n",
       " [],\n",
       " [],\n",
       " [],\n",
       " [],\n",
       " [],\n",
       " [],\n",
       " [],\n",
       " [],\n",
       " [],\n",
       " [],\n",
       " [],\n",
       " [],\n",
       " [],\n",
       " [],\n",
       " [],\n",
       " [],\n",
       " [],\n",
       " [],\n",
       " [],\n",
       " [],\n",
       " [],\n",
       " [],\n",
       " [],\n",
       " [],\n",
       " [],\n",
       " [],\n",
       " [],\n",
       " [],\n",
       " [],\n",
       " [],\n",
       " [],\n",
       " [],\n",
       " [],\n",
       " [],\n",
       " [],\n",
       " [],\n",
       " []]"
      ]
     },
     "execution_count": 41,
     "metadata": {},
     "output_type": "execute_result"
    }
   ],
   "source": [
    "result_list"
   ]
  },
  {
   "cell_type": "code",
   "execution_count": null,
   "metadata": {},
   "outputs": [
    {
     "ename": "ValueError",
     "evalue": "setting an array element with a sequence. The requested array has an inhomogeneous shape after 1 dimensions. The detected shape was (42,) + inhomogeneous part.",
     "output_type": "error",
     "traceback": [
      "\u001b[31m---------------------------------------------------------------------------\u001b[39m",
      "\u001b[31mValueError\u001b[39m                                Traceback (most recent call last)",
      "\u001b[36mCell\u001b[39m\u001b[36m \u001b[39m\u001b[32mIn[40]\u001b[39m\u001b[32m, line 1\u001b[39m\n\u001b[32m----> \u001b[39m\u001b[32m1\u001b[39m result_array = \u001b[43mnp\u001b[49m\u001b[43m.\u001b[49m\u001b[43marray\u001b[49m\u001b[43m(\u001b[49m\u001b[43mresult_list\u001b[49m\u001b[43m)\u001b[49m\n\u001b[32m      2\u001b[39m result_array\n",
      "\u001b[31mValueError\u001b[39m: setting an array element with a sequence. The requested array has an inhomogeneous shape after 1 dimensions. The detected shape was (42,) + inhomogeneous part."
     ]
    }
   ],
   "source": [
    "result_array = np.array(result_list)\n",
    "result_array"
   ]
  }
 ],
 "metadata": {
  "kernelspec": {
   "display_name": ".venv",
   "language": "python",
   "name": "python3"
  },
  "language_info": {
   "codemirror_mode": {
    "name": "ipython",
    "version": 3
   },
   "file_extension": ".py",
   "mimetype": "text/x-python",
   "name": "python",
   "nbconvert_exporter": "python",
   "pygments_lexer": "ipython3",
   "version": "3.12.4"
  }
 },
 "nbformat": 4,
 "nbformat_minor": 2
}
