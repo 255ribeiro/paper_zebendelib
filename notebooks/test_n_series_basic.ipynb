{
  "cells": [
    {
      "cell_type": "markdown",
      "metadata": {
        "id": "view-in-github",
        "colab_type": "text"
      },
      "source": [
        "<a href=\"https://colab.research.google.com/github/255ribeiro/paper_zebendelib/blob/main/notebooks/test_n_series_basic.ipynb\" target=\"_parent\"><img src=\"https://colab.research.google.com/assets/colab-badge.svg\" alt=\"Open In Colab\"/></a>"
      ]
    },
    {
      "cell_type": "code",
      "source": [
        "!pip install zebende==0.1.91"
      ],
      "metadata": {
        "id": "NGPJJrjsyIcP"
      },
      "execution_count": null,
      "outputs": []
    },
    {
      "cell_type": "code",
      "execution_count": null,
      "metadata": {
        "id": "KqTsB332al73"
      },
      "outputs": [],
      "source": [
        "import numpy as np\n",
        "import pandas as pd\n",
        "import matplotlib.pyplot as plt\n",
        "import zebende as zb\n",
        "import time"
      ]
    },
    {
      "cell_type": "markdown",
      "source": [
        "### Set the number of time series to run the test"
      ],
      "metadata": {
        "id": "AOzPTX1camfP"
      }
    },
    {
      "cell_type": "code",
      "execution_count": null,
      "metadata": {
        "id": "gcvQ1LR5al75"
      },
      "outputs": [],
      "source": [
        "series_count = 12"
      ]
    },
    {
      "cell_type": "code",
      "execution_count": null,
      "metadata": {
        "id": "mUB_wu_ial76"
      },
      "outputs": [],
      "source": [
        "url = 'https://tinyurl.com/zbtestdata64c'"
      ]
    },
    {
      "cell_type": "code",
      "execution_count": null,
      "metadata": {
        "id": "rYYQyLjbal76",
        "outputId": "8b76a7f2-9ab7-4b1f-961c-9101ce3735ae"
      },
      "outputs": [
        {
          "name": "stdout",
          "output_type": "stream",
          "text": [
            "(19920, 64)\n"
          ]
        },
        {
          "data": {
            "text/plain": [
              "(19920, 12)"
            ]
          },
          "execution_count": 14,
          "metadata": {},
          "output_type": "execute_result"
        }
      ],
      "source": [
        "df = pd.read_csv(url)\n",
        "print(df.shape)\n",
        "df = df.iloc[:, :series_count]\n",
        "df.shape"
      ]
    },
    {
      "cell_type": "code",
      "execution_count": null,
      "metadata": {
        "id": "ZvWj_Xbaal79"
      },
      "outputs": [],
      "source": [
        "tws =  np.array([4, 5, 7, 9, 11, 13, 16, 20, 23, 28, 33, 38, 45, 52, 60, 69, 79, 91, 104, 119, 135, 154, 174, 198, 223, 252, 285, 321,\n",
        "  362, 407, 457, 513, 575, 645, 723, 809, 905, 1011, 1130, 1261, 1407, 1570])"
      ]
    },
    {
      "cell_type": "code",
      "execution_count": null,
      "metadata": {
        "id": "zirozoFhal7-",
        "outputId": "2d4faa31-88e4-4e7a-e6d2-d48bddd37565"
      },
      "outputs": [
        {
          "name": "stdout",
          "output_type": "stream",
          "text": [
            "<class 'pandas.core.frame.DataFrame'>\n",
            "RangeIndex: 19920 entries, 0 to 19919\n",
            "Data columns (total 12 columns):\n",
            " #   Column  Non-Null Count  Dtype  \n",
            "---  ------  --------------  -----  \n",
            " 0   Fc5.    19920 non-null  float64\n",
            " 1   Fc3.    19920 non-null  float64\n",
            " 2   Fc1.    19920 non-null  float64\n",
            " 3   Fcz.    19920 non-null  float64\n",
            " 4   Fc2.    19920 non-null  float64\n",
            " 5   Fc4.    19920 non-null  float64\n",
            " 6   Fc6.    19920 non-null  float64\n",
            " 7   C5..    19920 non-null  float64\n",
            " 8   C3..    19920 non-null  float64\n",
            " 9   C1..    19920 non-null  float64\n",
            " 10  Cz..    19920 non-null  float64\n",
            " 11  C2..    19920 non-null  float64\n",
            "dtypes: float64(12)\n",
            "memory usage: 1.8 MB\n"
          ]
        }
      ],
      "source": [
        "df.info()"
      ]
    },
    {
      "cell_type": "code",
      "execution_count": null,
      "metadata": {
        "id": "Ws18TbIral7-",
        "outputId": "f546d2ec-dcf8-4871-ecc3-ac99976c692a"
      },
      "outputs": [
        {
          "name": "stdout",
          "output_type": "stream",
          "text": [
            "[[-5.7e-05 -1.3e-05 -1.5e-05 ... -1.4e-05 -2.9e-05 -1.5e-05]\n",
            " [-4.9e-05 -1.1e-05 -1.0e-05 ... -2.3e-05 -4.1e-05 -3.1e-05]\n",
            " [-5.5e-05 -1.7e-05 -1.6e-05 ... -3.6e-05 -5.3e-05 -4.1e-05]\n",
            " ...\n",
            " [ 2.3e-05  1.4e-05  1.1e-05 ...  2.5e-05  3.3e-05  3.7e-05]\n",
            " [ 3.8e-05  2.7e-05  2.8e-05 ...  4.0e-05  5.1e-05  5.5e-05]\n",
            " [ 5.0e-05  3.5e-05  4.1e-05 ...  3.8e-05  4.9e-05  5.5e-05]]\n"
          ]
        }
      ],
      "source": [
        "mat = df.to_numpy()\n",
        "print(mat)"
      ]
    },
    {
      "cell_type": "code",
      "execution_count": null,
      "metadata": {
        "id": "O9Zkltdual8E",
        "outputId": "10d90ec3-2929-471d-9b72-7276069548bb"
      },
      "outputs": [
        {
          "name": "stdout",
          "output_type": "stream",
          "text": [
            "Time taken: 213.0895299911499 seconds\n"
          ]
        }
      ],
      "source": [
        "start_time = time.time()\n",
        "int_data = zb.integrated_series(mat)\n",
        "dfa, dcca, pdcca = zb.p_dcca(mat, tws)\n",
        "end_time = time.time()\n",
        "print(f\"Time taken: {end_time - start_time} seconds\")"
      ]
    },
    {
      "cell_type": "code",
      "execution_count": null,
      "metadata": {
        "id": "IKmL5r6Ral8F",
        "outputId": "c3ba2936-c62a-469e-c5fe-a2a2cb1d0939"
      },
      "outputs": [
        {
          "data": {
            "text/plain": [
              "array([[0.92012703, 0.82103312, 0.711603  , ..., 0.96425957, 0.895482  ,\n",
              "        0.92978786],\n",
              "       [0.92249668, 0.82453574, 0.71426117, ..., 0.96400389, 0.8934926 ,\n",
              "        0.93071347],\n",
              "       [0.9275426 , 0.83462291, 0.72682409, ..., 0.96543133, 0.89467528,\n",
              "        0.93460199],\n",
              "       ...,\n",
              "       [0.95787447, 0.89553683, 0.81752623, ..., 0.97881613, 0.88832681,\n",
              "        0.90523115],\n",
              "       [0.95769706, 0.89550625, 0.81754472, ..., 0.97827412, 0.88682394,\n",
              "        0.90264685],\n",
              "       [0.95743313, 0.89529806, 0.81742775, ..., 0.97765777, 0.88540856,\n",
              "        0.90017496]], shape=(42, 66))"
            ]
          },
          "execution_count": 19,
          "metadata": {},
          "output_type": "execute_result"
        }
      ],
      "source": [
        "pdcca"
      ]
    }
  ],
  "metadata": {
    "kernelspec": {
      "display_name": ".venv",
      "language": "python",
      "name": "python3"
    },
    "language_info": {
      "codemirror_mode": {
        "name": "ipython",
        "version": 3
      },
      "file_extension": ".py",
      "mimetype": "text/x-python",
      "name": "python",
      "nbconvert_exporter": "python",
      "pygments_lexer": "ipython3",
      "version": "3.12.4"
    },
    "colab": {
      "provenance": [],
      "include_colab_link": true
    }
  },
  "nbformat": 4,
  "nbformat_minor": 0
}