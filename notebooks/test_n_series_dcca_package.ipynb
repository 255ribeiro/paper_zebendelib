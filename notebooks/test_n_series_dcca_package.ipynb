{
  "cells": [
    {
      "cell_type": "markdown",
      "metadata": {
        "id": "view-in-github",
        "colab_type": "text"
      },
      "source": [
        "<a href=\"https://colab.research.google.com/github/255ribeiro/paper_zebendelib/blob/main/notebooks/test_n_series_dcca_package.ipynb\" target=\"_parent\"><img src=\"https://colab.research.google.com/assets/colab-badge.svg\" alt=\"Open In Colab\"/></a>"
      ]
    },
    {
      "cell_type": "code",
      "execution_count": null,
      "metadata": {
        "id": "0XVed7LuYxbC"
      },
      "outputs": [],
      "source": [
        "import numpy as np\n",
        "import pandas as pd\n",
        "import matplotlib.pyplot as plt\n",
        "from dcca import detrended_correlation\n",
        "from itertools import combinations\n",
        "\n",
        "import time"
      ]
    },
    {
      "cell_type": "markdown",
      "source": [
        "### Set The number of time series to run the test"
      ],
      "metadata": {
        "id": "YX8OgrZ2Yx5X"
      }
    },
    {
      "cell_type": "code",
      "execution_count": null,
      "metadata": {
        "id": "lPXYeLqjYxbE"
      },
      "outputs": [],
      "source": [
        "series_count = 12"
      ]
    },
    {
      "cell_type": "code",
      "execution_count": null,
      "metadata": {
        "id": "57dcupIQYxbE"
      },
      "outputs": [],
      "source": [
        "url = 'https://tinyurl.com/zbtestdata64c'"
      ]
    },
    {
      "cell_type": "code",
      "execution_count": null,
      "metadata": {
        "id": "eVLreB1LYxbF",
        "outputId": "23f8dd50-8b12-46ee-9941-339500095000"
      },
      "outputs": [
        {
          "name": "stdout",
          "output_type": "stream",
          "text": [
            "(19920, 64)\n"
          ]
        },
        {
          "data": {
            "text/plain": [
              "(19920, 12)"
            ]
          },
          "execution_count": 4,
          "metadata": {},
          "output_type": "execute_result"
        }
      ],
      "source": [
        "df = pd.read_csv(url)\n",
        "print(df.shape)\n",
        "df = df.iloc[:, :series_count]\n",
        "df.shape"
      ]
    },
    {
      "cell_type": "code",
      "execution_count": null,
      "metadata": {
        "id": "utHmEL9NYxbF"
      },
      "outputs": [],
      "source": [
        "tws =  np.array([4, 5, 7, 9, 11, 13, 16, 20, 23, 28, 33, 38, 45, 52, 60, 69, 79, 91, 104, 119, 135, 154, 174, 198, 223, 252, 285, 321,\n",
        "  362, 407, 457, 513, 575, 645, 723, 809, 905, 1011, 1130, 1261, 1407, 1570])"
      ]
    },
    {
      "cell_type": "code",
      "execution_count": null,
      "metadata": {
        "id": "9qXewuKAYxbF",
        "outputId": "12217887-6bbe-4879-d0f4-046c30aa50b2"
      },
      "outputs": [
        {
          "name": "stdout",
          "output_type": "stream",
          "text": [
            "<class 'pandas.core.frame.DataFrame'>\n",
            "RangeIndex: 19920 entries, 0 to 19919\n",
            "Data columns (total 12 columns):\n",
            " #   Column  Non-Null Count  Dtype  \n",
            "---  ------  --------------  -----  \n",
            " 0   Fc5.    19920 non-null  float64\n",
            " 1   Fc3.    19920 non-null  float64\n",
            " 2   Fc1.    19920 non-null  float64\n",
            " 3   Fcz.    19920 non-null  float64\n",
            " 4   Fc2.    19920 non-null  float64\n",
            " 5   Fc4.    19920 non-null  float64\n",
            " 6   Fc6.    19920 non-null  float64\n",
            " 7   C5..    19920 non-null  float64\n",
            " 8   C3..    19920 non-null  float64\n",
            " 9   C1..    19920 non-null  float64\n",
            " 10  Cz..    19920 non-null  float64\n",
            " 11  C2..    19920 non-null  float64\n",
            "dtypes: float64(12)\n",
            "memory usage: 1.8 MB\n"
          ]
        }
      ],
      "source": [
        "df.info()"
      ]
    },
    {
      "cell_type": "code",
      "execution_count": null,
      "metadata": {
        "id": "w635M1nvYxbG",
        "outputId": "74ee420d-883e-4a9d-d77c-e6e7424d69f5"
      },
      "outputs": [
        {
          "name": "stdout",
          "output_type": "stream",
          "text": [
            "[[-5.7e-05 -1.3e-05 -1.5e-05 ... -1.4e-05 -2.9e-05 -1.5e-05]\n",
            " [-4.9e-05 -1.1e-05 -1.0e-05 ... -2.3e-05 -4.1e-05 -3.1e-05]\n",
            " [-5.5e-05 -1.7e-05 -1.6e-05 ... -3.6e-05 -5.3e-05 -4.1e-05]\n",
            " ...\n",
            " [ 2.3e-05  1.4e-05  1.1e-05 ...  2.5e-05  3.3e-05  3.7e-05]\n",
            " [ 3.8e-05  2.7e-05  2.8e-05 ...  4.0e-05  5.1e-05  5.5e-05]\n",
            " [ 5.0e-05  3.5e-05  4.1e-05 ...  3.8e-05  4.9e-05  5.5e-05]]\n"
          ]
        }
      ],
      "source": [
        "mat = df.to_numpy()\n",
        "print(mat)"
      ]
    },
    {
      "cell_type": "code",
      "execution_count": null,
      "metadata": {
        "id": "edlSBAAwYxbG",
        "outputId": "a5f8c7dc-5506-4237-e8d6-dba8a137940c"
      },
      "outputs": [
        {
          "name": "stdout",
          "output_type": "stream",
          "text": [
            "Time taken: 4675.172034025192 seconds\n"
          ]
        }
      ],
      "source": [
        "start_time = time.time()\n",
        "DCCA_of = np.array(list(combinations(range(mat.shape[1]), 2)), dtype=np.uintp)\n",
        "P_DCCA_arr = np.full(shape=(tws.shape[0], DCCA_of.shape[0]) ,fill_value=np.nan, dtype=mat.dtype)\n",
        "for n_index, n in enumerate(tws):\n",
        "    for i in DCCA_of:\n",
        "        x = mat[:,i[0]] # selecting series x\n",
        "        y = mat[:,i[1]] # selecting series y\n",
        "        P_DCCA_arr[n_index, i] = detrended_correlation(x=x, y=y, time_scale=n, time_lag=0) # Pdcca calculations\n",
        "end_time = time.time()\n",
        "print(f\"Time taken: {end_time - start_time} seconds\")"
      ]
    },
    {
      "cell_type": "code",
      "execution_count": null,
      "metadata": {
        "id": "2otSRfFfYxbG",
        "outputId": "972a148a-2d52-4fe9-dc06-51b980a600a7"
      },
      "outputs": [
        {
          "data": {
            "text/plain": [
              "array([[0.58902651, 0.75154195, 0.82954453, ...,        nan,        nan,\n",
              "               nan],\n",
              "       [0.59792976, 0.75074282, 0.8302827 , ...,        nan,        nan,\n",
              "               nan],\n",
              "       [0.61854482, 0.75635227, 0.83468893, ...,        nan,        nan,\n",
              "               nan],\n",
              "       ...,\n",
              "       [0.68329566, 0.78978574, 0.84298503, ...,        nan,        nan,\n",
              "               nan],\n",
              "       [0.68198159, 0.78840733, 0.84177379, ...,        nan,        nan,\n",
              "               nan],\n",
              "       [0.68071529, 0.78708255, 0.84056768, ...,        nan,        nan,\n",
              "               nan]], shape=(42, 66))"
            ]
          },
          "execution_count": 9,
          "metadata": {},
          "output_type": "execute_result"
        }
      ],
      "source": [
        "P_DCCA_arr"
      ]
    }
  ],
  "metadata": {
    "kernelspec": {
      "display_name": ".venv",
      "language": "python",
      "name": "python3"
    },
    "language_info": {
      "codemirror_mode": {
        "name": "ipython",
        "version": 3
      },
      "file_extension": ".py",
      "mimetype": "text/x-python",
      "name": "python",
      "nbconvert_exporter": "python",
      "pygments_lexer": "ipython3",
      "version": "3.12.4"
    },
    "colab": {
      "provenance": [],
      "include_colab_link": true
    }
  },
  "nbformat": 4,
  "nbformat_minor": 0
}