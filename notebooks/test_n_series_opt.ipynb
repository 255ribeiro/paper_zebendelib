{
  "cells": [
    {
      "cell_type": "markdown",
      "metadata": {
        "colab_type": "text",
        "id": "view-in-github"
      },
      "source": [
        "<a href=\"https://colab.research.google.com/github/255ribeiro/paper_zebendelib/blob/main/notebooks/test_n_series_opt.ipynb\" target=\"_parent\"><img src=\"https://colab.research.google.com/assets/colab-badge.svg\" alt=\"Open In Colab\"/></a>"
      ]
    },
    {
      "cell_type": "code",
      "execution_count": 1,
      "metadata": {
        "colab": {
          "base_uri": "https://localhost:8080/"
        },
        "id": "tklWWKipcgUA",
        "outputId": "19e4d712-4f34-44fb-92d1-d2020bcfc0b4"
      },
      "outputs": [
        {
          "name": "stdout",
          "output_type": "stream",
          "text": [
            "Collecting zebende==0.2.0\n",
            "  Downloading zebende-0.2.0-py3-none-any.whl.metadata (798 bytes)\n",
            "Requirement already satisfied: numpy<3.0,>=1.26 in d:\\gitrepos\\papers\\paper_zebendelib\\.venv\\lib\\site-packages (from zebende==0.2.0) (2.2.4)\n",
            "Downloading zebende-0.2.0-py3-none-any.whl (670 kB)\n",
            "   ---------------------------------------- 0.0/670.7 kB ? eta -:--:--\n",
            "   ---------------------------------------- 670.7/670.7 kB 6.6 MB/s eta 0:00:00\n",
            "Installing collected packages: zebende\n",
            "  Attempting uninstall: zebende\n",
            "    Found existing installation: zebende 0.2.1\n",
            "    Uninstalling zebende-0.2.1:\n",
            "      Successfully uninstalled zebende-0.2.1\n",
            "Successfully installed zebende-0.2.0\n"
          ]
        }
      ],
      "source": [
        "!pip install zebende==0.2.0"
      ]
    },
    {
      "cell_type": "code",
      "execution_count": 1,
      "metadata": {
        "id": "zBrF2YY_ZOxd"
      },
      "outputs": [],
      "source": [
        "import numpy as np\n",
        "import pandas as pd\n",
        "import matplotlib.pyplot as plt\n",
        "import zebende as zb\n",
        "import time"
      ]
    },
    {
      "cell_type": "markdown",
      "metadata": {
        "id": "vlGsgDqBZPiG"
      },
      "source": [
        "### Set the number of time series to run the test"
      ]
    },
    {
      "cell_type": "code",
      "execution_count": 2,
      "metadata": {
        "id": "KiPsO1aTZOxe"
      },
      "outputs": [],
      "source": [
        "series_count = 12"
      ]
    },
    {
      "cell_type": "code",
      "execution_count": 3,
      "metadata": {
        "id": "nP2_lruqZOxe"
      },
      "outputs": [],
      "source": [
        "url = 'https://tinyurl.com/zbtestdata64c'"
      ]
    },
    {
      "cell_type": "code",
      "execution_count": 4,
      "metadata": {
        "colab": {
          "base_uri": "https://localhost:8080/"
        },
        "id": "QaVMrGDJZOxf",
        "outputId": "9170bd9b-df26-48ef-d254-fe9fbce68679"
      },
      "outputs": [
        {
          "name": "stdout",
          "output_type": "stream",
          "text": [
            "(19920, 64)\n"
          ]
        },
        {
          "data": {
            "text/plain": [
              "(19920, 12)"
            ]
          },
          "execution_count": 4,
          "metadata": {},
          "output_type": "execute_result"
        }
      ],
      "source": [
        "df = pd.read_csv(url)\n",
        "print(df.shape)\n",
        "df = df.iloc[:, :series_count]\n",
        "df.shape"
      ]
    },
    {
      "cell_type": "code",
      "execution_count": 5,
      "metadata": {
        "id": "7OtXvjDdZOxf"
      },
      "outputs": [],
      "source": [
        "tws =  np.array([4, 5, 7, 9, 11, 13, 16, 20, 23, 28, 33, 38, 45, 52, 60, 69, 79, 91, 104, 119, 135, 154, 174, 198, 223, 252, 285, 321,\n",
        "  362, 407, 457, 513, 575, 645, 723, 809, 905, 1011, 1130, 1261, 1407, 1570])"
      ]
    },
    {
      "cell_type": "code",
      "execution_count": 6,
      "metadata": {
        "colab": {
          "base_uri": "https://localhost:8080/"
        },
        "id": "zcgGlF0zZOxf",
        "outputId": "cb36eac7-0ea5-483c-c1f3-e3def0a40c5e"
      },
      "outputs": [
        {
          "name": "stdout",
          "output_type": "stream",
          "text": [
            "<class 'pandas.core.frame.DataFrame'>\n",
            "RangeIndex: 19920 entries, 0 to 19919\n",
            "Data columns (total 12 columns):\n",
            " #   Column  Non-Null Count  Dtype  \n",
            "---  ------  --------------  -----  \n",
            " 0   Fc5.    19920 non-null  float64\n",
            " 1   Fc3.    19920 non-null  float64\n",
            " 2   Fc1.    19920 non-null  float64\n",
            " 3   Fcz.    19920 non-null  float64\n",
            " 4   Fc2.    19920 non-null  float64\n",
            " 5   Fc4.    19920 non-null  float64\n",
            " 6   Fc6.    19920 non-null  float64\n",
            " 7   C5..    19920 non-null  float64\n",
            " 8   C3..    19920 non-null  float64\n",
            " 9   C1..    19920 non-null  float64\n",
            " 10  Cz..    19920 non-null  float64\n",
            " 11  C2..    19920 non-null  float64\n",
            "dtypes: float64(12)\n",
            "memory usage: 1.8 MB\n"
          ]
        }
      ],
      "source": [
        "df.info()"
      ]
    },
    {
      "cell_type": "code",
      "execution_count": 7,
      "metadata": {
        "colab": {
          "base_uri": "https://localhost:8080/"
        },
        "id": "5Pp8SoP9ZOxg",
        "outputId": "a557472f-6e09-4d57-94f6-1cdc9ca2860b"
      },
      "outputs": [
        {
          "name": "stdout",
          "output_type": "stream",
          "text": [
            "[[-5.7e-05 -1.3e-05 -1.5e-05 ... -1.4e-05 -2.9e-05 -1.5e-05]\n",
            " [-4.9e-05 -1.1e-05 -1.0e-05 ... -2.3e-05 -4.1e-05 -3.1e-05]\n",
            " [-5.5e-05 -1.7e-05 -1.6e-05 ... -3.6e-05 -5.3e-05 -4.1e-05]\n",
            " ...\n",
            " [ 2.3e-05  1.4e-05  1.1e-05 ...  2.5e-05  3.3e-05  3.7e-05]\n",
            " [ 3.8e-05  2.7e-05  2.8e-05 ...  4.0e-05  5.1e-05  5.5e-05]\n",
            " [ 5.0e-05  3.5e-05  4.1e-05 ...  3.8e-05  4.9e-05  5.5e-05]]\n"
          ]
        }
      ],
      "source": [
        "mat = df.to_numpy()\n",
        "print(mat)"
      ]
    },
    {
      "cell_type": "code",
      "execution_count": 8,
      "metadata": {
        "colab": {
          "base_uri": "https://localhost:8080/"
        },
        "id": "USStL8zDZOxg",
        "outputId": "bb1dbfb5-ebdd-4e5e-cd66-d91dffa09410"
      },
      "outputs": [
        {
          "name": "stdout",
          "output_type": "stream",
          "text": [
            "Time taken: 101.62512135505676 seconds\n"
          ]
        }
      ],
      "source": [
        "start_time = time.time()\n",
        "int_data = zb.integrated_series(mat)\n",
        "dfa, dcca, pdcca = zb.p_dcca(int_data, tws)\n",
        "end_time = time.time()\n",
        "print(f\"Time taken: {end_time - start_time} seconds\")"
      ]
    },
    {
      "cell_type": "code",
      "execution_count": 9,
      "metadata": {
        "colab": {
          "base_uri": "https://localhost:8080/"
        },
        "id": "USUHrL3LZOxg",
        "outputId": "e646ceba-501d-4dc7-b880-f18df795e98b"
      },
      "outputs": [
        {
          "data": {
            "text/plain": [
              "array([[0.93385127, 0.84627662, 0.74370751, ..., 0.96825001, 0.89932728,\n",
              "        0.93776362],\n",
              "       [0.93802811, 0.85429926, 0.75425558, ..., 0.9697086 , 0.90139431,\n",
              "        0.94032568],\n",
              "       [0.94437743, 0.86733248, 0.77324954, ..., 0.9728351 , 0.90693506,\n",
              "        0.94457491],\n",
              "       ...,\n",
              "       [0.93700383, 0.87551046, 0.79527912, ..., 0.94109654, 0.70806739,\n",
              "        0.64554058],\n",
              "       [0.93367503, 0.87034236, 0.79027875, ..., 0.93495603, 0.69496998,\n",
              "        0.624299  ],\n",
              "       [0.92968033, 0.86377303, 0.78272763, ..., 0.92802758, 0.68128159,\n",
              "        0.60301603]], shape=(42, 66))"
            ]
          },
          "execution_count": 9,
          "metadata": {},
          "output_type": "execute_result"
        }
      ],
      "source": [
        "pdcca"
      ]
    }
  ],
  "metadata": {
    "colab": {
      "include_colab_link": true,
      "provenance": []
    },
    "kernelspec": {
      "display_name": ".venv",
      "language": "python",
      "name": "python3"
    },
    "language_info": {
      "codemirror_mode": {
        "name": "ipython",
        "version": 3
      },
      "file_extension": ".py",
      "mimetype": "text/x-python",
      "name": "python",
      "nbconvert_exporter": "python",
      "pygments_lexer": "ipython3",
      "version": "3.12.4"
    }
  },
  "nbformat": 4,
  "nbformat_minor": 0
}
