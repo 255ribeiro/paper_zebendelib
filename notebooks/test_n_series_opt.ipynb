{
  "cells": [
    {
      "cell_type": "markdown",
      "metadata": {
        "id": "view-in-github",
        "colab_type": "text"
      },
      "source": [
        "<a href=\"https://colab.research.google.com/github/255ribeiro/paper_zebendelib/blob/main/notebooks/test_n_series_opt.ipynb\" target=\"_parent\"><img src=\"https://colab.research.google.com/assets/colab-badge.svg\" alt=\"Open In Colab\"/></a>"
      ]
    },
    {
      "cell_type": "code",
      "source": [
        "!pip install zebende==0.2.0"
      ],
      "metadata": {
        "id": "tklWWKipcgUA",
        "colab": {
          "base_uri": "https://localhost:8080/"
        },
        "outputId": "19e4d712-4f34-44fb-92d1-d2020bcfc0b4"
      },
      "execution_count": 1,
      "outputs": [
        {
          "output_type": "stream",
          "name": "stdout",
          "text": [
            "Collecting zebende==0.2.0\n",
            "  Downloading zebende-0.2.0-py3-none-any.whl.metadata (798 bytes)\n",
            "Requirement already satisfied: numpy<3.0,>=1.26 in /usr/local/lib/python3.11/dist-packages (from zebende==0.2.0) (2.0.2)\n",
            "Downloading zebende-0.2.0-py3-none-any.whl (670 kB)\n",
            "\u001b[2K   \u001b[90m━━━━━━━━━━━━━━━━━━━━━━━━━━━━━━━━━━━━━━━━\u001b[0m \u001b[32m670.7/670.7 kB\u001b[0m \u001b[31m1.3 MB/s\u001b[0m eta \u001b[36m0:00:00\u001b[0m\n",
            "\u001b[?25hInstalling collected packages: zebende\n",
            "Successfully installed zebende-0.2.0\n"
          ]
        }
      ]
    },
    {
      "cell_type": "code",
      "execution_count": 2,
      "metadata": {
        "id": "zBrF2YY_ZOxd"
      },
      "outputs": [],
      "source": [
        "import numpy as np\n",
        "import pandas as pd\n",
        "import matplotlib.pyplot as plt\n",
        "import zebende as zb\n",
        "import time"
      ]
    },
    {
      "cell_type": "markdown",
      "source": [
        "### Set the number of time series to run the test"
      ],
      "metadata": {
        "id": "vlGsgDqBZPiG"
      }
    },
    {
      "cell_type": "code",
      "execution_count": 3,
      "metadata": {
        "id": "KiPsO1aTZOxe"
      },
      "outputs": [],
      "source": [
        "series_count = 4"
      ]
    },
    {
      "cell_type": "code",
      "execution_count": 4,
      "metadata": {
        "id": "nP2_lruqZOxe"
      },
      "outputs": [],
      "source": [
        "url = 'https://tinyurl.com/zbtestdata64c'"
      ]
    },
    {
      "cell_type": "code",
      "execution_count": 5,
      "metadata": {
        "id": "QaVMrGDJZOxf",
        "colab": {
          "base_uri": "https://localhost:8080/"
        },
        "outputId": "9170bd9b-df26-48ef-d254-fe9fbce68679"
      },
      "outputs": [
        {
          "output_type": "stream",
          "name": "stdout",
          "text": [
            "(19920, 64)\n"
          ]
        },
        {
          "output_type": "execute_result",
          "data": {
            "text/plain": [
              "(19920, 4)"
            ]
          },
          "metadata": {},
          "execution_count": 5
        }
      ],
      "source": [
        "df = pd.read_csv(url)\n",
        "print(df.shape)\n",
        "df = df.iloc[:, :series_count]\n",
        "df.shape"
      ]
    },
    {
      "cell_type": "code",
      "execution_count": 6,
      "metadata": {
        "id": "7OtXvjDdZOxf"
      },
      "outputs": [],
      "source": [
        "tws =  np.array([4, 5, 7, 9, 11, 13, 16, 20, 23, 28, 33, 38, 45, 52, 60, 69, 79, 91, 104, 119, 135, 154, 174, 198, 223, 252, 285, 321,\n",
        "  362, 407, 457, 513, 575, 645, 723, 809, 905, 1011, 1130, 1261, 1407, 1570])"
      ]
    },
    {
      "cell_type": "code",
      "execution_count": 7,
      "metadata": {
        "id": "zcgGlF0zZOxf",
        "outputId": "cb36eac7-0ea5-483c-c1f3-e3def0a40c5e",
        "colab": {
          "base_uri": "https://localhost:8080/"
        }
      },
      "outputs": [
        {
          "output_type": "stream",
          "name": "stdout",
          "text": [
            "<class 'pandas.core.frame.DataFrame'>\n",
            "RangeIndex: 19920 entries, 0 to 19919\n",
            "Data columns (total 4 columns):\n",
            " #   Column  Non-Null Count  Dtype  \n",
            "---  ------  --------------  -----  \n",
            " 0   Fc5.    19920 non-null  float64\n",
            " 1   Fc3.    19920 non-null  float64\n",
            " 2   Fc1.    19920 non-null  float64\n",
            " 3   Fcz.    19920 non-null  float64\n",
            "dtypes: float64(4)\n",
            "memory usage: 622.6 KB\n"
          ]
        }
      ],
      "source": [
        "df.info()"
      ]
    },
    {
      "cell_type": "code",
      "execution_count": 8,
      "metadata": {
        "id": "5Pp8SoP9ZOxg",
        "outputId": "a557472f-6e09-4d57-94f6-1cdc9ca2860b",
        "colab": {
          "base_uri": "https://localhost:8080/"
        }
      },
      "outputs": [
        {
          "output_type": "stream",
          "name": "stdout",
          "text": [
            "[[-5.7e-05 -1.3e-05 -1.5e-05 -1.2e-05]\n",
            " [-4.9e-05 -1.1e-05 -1.0e-05 -1.2e-05]\n",
            " [-5.5e-05 -1.7e-05 -1.6e-05 -1.9e-05]\n",
            " ...\n",
            " [ 2.3e-05  1.4e-05  1.1e-05  3.0e-06]\n",
            " [ 3.8e-05  2.7e-05  2.8e-05  1.9e-05]\n",
            " [ 5.0e-05  3.5e-05  4.1e-05  4.0e-05]]\n"
          ]
        }
      ],
      "source": [
        "mat = df.to_numpy()\n",
        "print(mat)"
      ]
    },
    {
      "cell_type": "code",
      "execution_count": 10,
      "metadata": {
        "id": "USStL8zDZOxg",
        "outputId": "bb1dbfb5-ebdd-4e5e-cd66-d91dffa09410",
        "colab": {
          "base_uri": "https://localhost:8080/"
        }
      },
      "outputs": [
        {
          "output_type": "stream",
          "name": "stdout",
          "text": [
            "Time taken: 40.56216549873352 seconds\n"
          ]
        }
      ],
      "source": [
        "start_time = time.time()\n",
        "int_data = zb.integrated_series(mat)\n",
        "dfa, dcca, pdcca = zb.p_dcca(int_data, tws)\n",
        "end_time = time.time()\n",
        "print(f\"Time taken: {end_time - start_time} seconds\")"
      ]
    },
    {
      "cell_type": "code",
      "execution_count": 11,
      "metadata": {
        "id": "USUHrL3LZOxg",
        "outputId": "e646ceba-501d-4dc7-b880-f18df795e98b",
        "colab": {
          "base_uri": "https://localhost:8080/"
        }
      },
      "outputs": [
        {
          "output_type": "execute_result",
          "data": {
            "text/plain": [
              "array([[0.93385127, 0.84627662, 0.74370751, 0.96224493, 0.87332455,\n",
              "        0.95429428],\n",
              "       [0.93802811, 0.85429926, 0.75425558, 0.96423202, 0.87739089,\n",
              "        0.95594667],\n",
              "       [0.94437743, 0.86733248, 0.77324954, 0.96766975, 0.88677884,\n",
              "        0.95970622],\n",
              "       [0.9486037 , 0.87586802, 0.78652595, 0.9699226 , 0.89435699,\n",
              "        0.96292363],\n",
              "       [0.95125618, 0.88058534, 0.79419589, 0.97114148, 0.89937412,\n",
              "        0.96534972],\n",
              "       [0.9528963 , 0.88289279, 0.79836552, 0.97175103, 0.90269281,\n",
              "        0.96717914],\n",
              "       [0.9543565 , 0.88427399, 0.80166248, 0.97217315, 0.90605317,\n",
              "        0.96919218],\n",
              "       [0.95557301, 0.88521963, 0.80442855, 0.97246123, 0.90893104,\n",
              "        0.97095957],\n",
              "       [0.95635328, 0.88620476, 0.80653308, 0.97267585, 0.91048361,\n",
              "        0.97184485],\n",
              "       [0.95761715, 0.88853259, 0.8105758 , 0.97314899, 0.91272187,\n",
              "        0.97289315],\n",
              "       [0.95879232, 0.89121722, 0.81481988, 0.9736959 , 0.9147311 ,\n",
              "        0.97363207],\n",
              "       [0.95979339, 0.89380644, 0.81875056, 0.97420876, 0.91641152,\n",
              "        0.97414248],\n",
              "       [0.96086021, 0.89678106, 0.82309036, 0.97475098, 0.91807352,\n",
              "        0.97453748],\n",
              "       [0.96167149, 0.89905442, 0.82621165, 0.97508712, 0.91906016,\n",
              "        0.97466635],\n",
              "       [0.96253997, 0.90132392, 0.82922066, 0.97534804, 0.91986299,\n",
              "        0.97468732],\n",
              "       [0.96353478, 0.90370714, 0.83234036, 0.9755624 , 0.92062857,\n",
              "        0.97466346],\n",
              "       [0.96460289, 0.90610921, 0.83543262, 0.97572954, 0.92134301,\n",
              "        0.97459832],\n",
              "       [0.96572354, 0.90854453, 0.83846275, 0.97586586, 0.92199036,\n",
              "        0.97443684],\n",
              "       [0.96668681, 0.91060749, 0.84087157, 0.97596659, 0.92242544,\n",
              "        0.97413379],\n",
              "       [0.96750289, 0.91242172, 0.84281277, 0.97608248, 0.92273599,\n",
              "        0.97367351],\n",
              "       [0.96806137, 0.91384359, 0.84415362, 0.97624224, 0.92298978,\n",
              "        0.97313653],\n",
              "       [0.96832454, 0.91482792, 0.84470062, 0.97642283, 0.92308363,\n",
              "        0.9724479 ],\n",
              "       [0.96820908, 0.91510555, 0.84415934, 0.97654051, 0.92285183,\n",
              "        0.97163135],\n",
              "       [0.96777313, 0.91487856, 0.84274615, 0.97659972, 0.92228781,\n",
              "        0.97055064],\n",
              "       [0.96722077, 0.91452457, 0.8411528 , 0.97661775, 0.92155688,\n",
              "        0.96934608],\n",
              "       [0.96660362, 0.91429733, 0.83966104, 0.97663712, 0.9206966 ,\n",
              "        0.96789586],\n",
              "       [0.96601335, 0.91439844, 0.83863994, 0.97668857, 0.91977092,\n",
              "        0.96620056],\n",
              "       [0.96548105, 0.91476469, 0.8381604 , 0.97674134, 0.9187539 ,\n",
              "        0.96427411],\n",
              "       [0.96492565, 0.91516045, 0.83788401, 0.97671406, 0.91740946,\n",
              "        0.96192822],\n",
              "       [0.96427537, 0.91527641, 0.83734649, 0.97649173, 0.91549779,\n",
              "        0.959115  ],\n",
              "       [0.96339518, 0.9149037 , 0.83624336, 0.97603023, 0.91285844,\n",
              "        0.95571875],\n",
              "       [0.96217912, 0.91390601, 0.83448616, 0.97531759, 0.90941968,\n",
              "        0.95161402],\n",
              "       [0.96052572, 0.91205027, 0.83197271, 0.97432157, 0.9051802 ,\n",
              "        0.9467676 ],\n",
              "       [0.95828835, 0.90909019, 0.82876759, 0.97303642, 0.90024514,\n",
              "        0.94107669],\n",
              "       [0.95542813, 0.90495451, 0.82477903, 0.97149177, 0.89458778,\n",
              "        0.93434542],\n",
              "       [0.95201625, 0.89972855, 0.81964687, 0.9697988 , 0.88809727,\n",
              "        0.92647097],\n",
              "       [0.94823242, 0.89369416, 0.81356359, 0.96818295, 0.88121745,\n",
              "        0.91777223],\n",
              "       [0.94432423, 0.88726947, 0.80702074, 0.96688249, 0.87443208,\n",
              "        0.90872529],\n",
              "       [0.94049227, 0.8810137 , 0.80067675, 0.96603952, 0.86800879,\n",
              "        0.89979971],\n",
              "       [0.93700383, 0.87551046, 0.79527912, 0.96565901, 0.86250912,\n",
              "        0.89166028],\n",
              "       [0.93367503, 0.87034236, 0.79027875, 0.96539468, 0.8575014 ,\n",
              "        0.8839887 ],\n",
              "       [0.92968033, 0.86377303, 0.78272763, 0.96454997, 0.85121044,\n",
              "        0.87548924]])"
            ]
          },
          "metadata": {},
          "execution_count": 11
        }
      ],
      "source": [
        "pdcca"
      ]
    }
  ],
  "metadata": {
    "kernelspec": {
      "display_name": ".venv",
      "language": "python",
      "name": "python3"
    },
    "language_info": {
      "codemirror_mode": {
        "name": "ipython",
        "version": 3
      },
      "file_extension": ".py",
      "mimetype": "text/x-python",
      "name": "python",
      "nbconvert_exporter": "python",
      "pygments_lexer": "ipython3",
      "version": "3.12.4"
    },
    "colab": {
      "provenance": [],
      "include_colab_link": true
    }
  },
  "nbformat": 4,
  "nbformat_minor": 0
}