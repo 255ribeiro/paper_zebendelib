{
  "cells": [
    {
      "cell_type": "markdown",
      "metadata": {
        "id": "view-in-github",
        "colab_type": "text"
      },
      "source": [
        "<a href=\"https://colab.research.google.com/github/255ribeiro/paper_zebendelib/blob/main/notebooks/test_n_series_opt.ipynb\" target=\"_parent\"><img src=\"https://colab.research.google.com/assets/colab-badge.svg\" alt=\"Open In Colab\"/></a>"
      ]
    },
    {
      "cell_type": "code",
      "execution_count": null,
      "metadata": {
        "id": "zBrF2YY_ZOxd"
      },
      "outputs": [],
      "source": [
        "import numpy as np\n",
        "import pandas as pd\n",
        "import matplotlib.pyplot as plt\n",
        "import zebende as zb\n",
        "import time"
      ]
    },
    {
      "cell_type": "markdown",
      "source": [
        "### Set the number of time series to run the test"
      ],
      "metadata": {
        "id": "vlGsgDqBZPiG"
      }
    },
    {
      "cell_type": "code",
      "execution_count": null,
      "metadata": {
        "id": "KiPsO1aTZOxe"
      },
      "outputs": [],
      "source": [
        "series_count = 4"
      ]
    },
    {
      "cell_type": "code",
      "execution_count": null,
      "metadata": {
        "id": "nP2_lruqZOxe"
      },
      "outputs": [],
      "source": [
        "url = 'https://tinyurl.com/zbtestdata64c'"
      ]
    },
    {
      "cell_type": "code",
      "execution_count": null,
      "metadata": {
        "id": "QaVMrGDJZOxf"
      },
      "outputs": [],
      "source": [
        "df = pd.read_csv(url)\n",
        "print(df.shape)\n",
        "df = df.iloc[:, :series_count]\n",
        "df.shape"
      ]
    },
    {
      "cell_type": "code",
      "execution_count": null,
      "metadata": {
        "id": "7OtXvjDdZOxf"
      },
      "outputs": [],
      "source": [
        "tws =  np.array([4, 5, 7, 9, 11, 13, 16, 20, 23, 28, 33, 38, 45, 52, 60, 69, 79, 91, 104, 119, 135, 154, 174, 198, 223, 252, 285, 321,\n",
        "  362, 407, 457, 513, 575, 645, 723, 809, 905, 1011, 1130, 1261, 1407, 1570])"
      ]
    },
    {
      "cell_type": "code",
      "execution_count": null,
      "metadata": {
        "id": "zcgGlF0zZOxf",
        "outputId": "d39eb349-7cb9-4110-dca4-401c347ef882"
      },
      "outputs": [
        {
          "name": "stdout",
          "output_type": "stream",
          "text": [
            "<class 'pandas.core.frame.DataFrame'>\n",
            "RangeIndex: 15742 entries, 0 to 15741\n",
            "Data columns (total 4 columns):\n",
            " #   Column  Non-Null Count  Dtype  \n",
            "---  ------  --------------  -----  \n",
            " 0   F3      15742 non-null  float64\n",
            " 1   F6      15742 non-null  float64\n",
            " 2   P3      15742 non-null  float64\n",
            " 3   P6      15742 non-null  float64\n",
            "dtypes: float64(4)\n",
            "memory usage: 492.1 KB\n"
          ]
        }
      ],
      "source": [
        "df.info()"
      ]
    },
    {
      "cell_type": "code",
      "execution_count": null,
      "metadata": {
        "id": "5Pp8SoP9ZOxg",
        "outputId": "0c5e3f2b-36c1-4167-e4f5-78654f4968a9"
      },
      "outputs": [
        {
          "name": "stdout",
          "output_type": "stream",
          "text": [
            "[[-28. -57. -43. -52.]\n",
            " [-32. -67. -67. -60.]\n",
            " [-44. -74. -74. -66.]\n",
            " ...\n",
            " [-15. -54. -59. -57.]\n",
            " [  0. -41. -25. -47.]\n",
            " [-15. -48. -50. -72.]]\n"
          ]
        }
      ],
      "source": [
        "mat = df.to_numpy()\n",
        "print(mat)"
      ]
    },
    {
      "cell_type": "code",
      "execution_count": null,
      "metadata": {
        "id": "USStL8zDZOxg",
        "outputId": "43b0eb41-5155-4002-dbe4-dad1fbe557f3"
      },
      "outputs": [
        {
          "name": "stdout",
          "output_type": "stream",
          "text": [
            "Time taken: 27.520853996276855 seconds\n"
          ]
        }
      ],
      "source": [
        "start_time = time.time()\n",
        "int_data = zb.integrated_series(mat)\n",
        "dfa, dcca, pdcca = zb.p_dcca(mat, tws)\n",
        "end_time = time.time()\n",
        "print(f\"Time taken: {end_time - start_time} seconds\")"
      ]
    },
    {
      "cell_type": "code",
      "execution_count": null,
      "metadata": {
        "id": "USUHrL3LZOxg",
        "outputId": "8d7a9eb0-be9c-4f15-b39b-1537c55ff79e"
      },
      "outputs": [
        {
          "data": {
            "text/plain": [
              "array([[0.82382562, 0.60221892, 0.4972079 , 0.47481783, 0.45285253,\n",
              "        0.7601306 ],\n",
              "       [0.8293883 , 0.59211517, 0.48657525, 0.46388036, 0.44368493,\n",
              "        0.74228963],\n",
              "       [0.84238743, 0.58879398, 0.48116275, 0.46374061, 0.44384958,\n",
              "        0.72470812],\n",
              "       [0.85289386, 0.59398261, 0.48538103, 0.47080673, 0.44906472,\n",
              "        0.72162842],\n",
              "       [0.86089761, 0.59837119, 0.48988818, 0.47548929, 0.45263663,\n",
              "        0.72407422],\n",
              "       [0.8669021 , 0.60265531, 0.49525052, 0.47934242, 0.45664922,\n",
              "        0.72899719],\n",
              "       [0.87294803, 0.61189363, 0.50833982, 0.4867668 , 0.4674857 ,\n",
              "        0.73786364],\n",
              "       [0.87855621, 0.62416404, 0.52784167, 0.496652  , 0.48462917,\n",
              "        0.74894607],\n",
              "       [0.88211647, 0.62978104, 0.53838404, 0.50122718, 0.49382512,\n",
              "        0.75525081],\n",
              "       [0.88689752, 0.63414099, 0.55000882, 0.50404329, 0.50287997,\n",
              "        0.76291818],\n",
              "       [0.89019391, 0.63751174, 0.55940137, 0.50544241, 0.50960251,\n",
              "        0.77008399],\n",
              "       [0.89284691, 0.63987431, 0.56692261, 0.50571645, 0.51415707,\n",
              "        0.77714758],\n",
              "       [0.89564635, 0.64072398, 0.57397225, 0.50334456, 0.51702227,\n",
              "        0.78562926],\n",
              "       [0.89741361, 0.63839123, 0.57713047, 0.4973899 , 0.51637983,\n",
              "        0.79172799],\n",
              "       [0.89891315, 0.63393599, 0.57833583, 0.48897858, 0.51374586,\n",
              "        0.79693392],\n",
              "       [0.90029136, 0.62899891, 0.57912325, 0.48006965, 0.51072006,\n",
              "        0.80189602],\n",
              "       [0.90137689, 0.62413891, 0.57922376, 0.47143803, 0.50742837,\n",
              "        0.806279  ],\n",
              "       [0.90225492, 0.61960842, 0.57844489, 0.46354812, 0.50374867,\n",
              "        0.8104814 ],\n",
              "       [0.90270739, 0.61602466, 0.57687561, 0.45741892, 0.50025375,\n",
              "        0.81420268],\n",
              "       [0.90270221, 0.61332461, 0.5748552 , 0.45270054, 0.49647786,\n",
              "        0.8181381 ],\n",
              "       [0.90241325, 0.61239716, 0.57305235, 0.45077695, 0.49311716,\n",
              "        0.82202259],\n",
              "       [0.90182281, 0.61318788, 0.5713144 , 0.45156586, 0.49036368,\n",
              "        0.82605864],\n",
              "       [0.90094282, 0.61407893, 0.56890285, 0.45312923, 0.4876007 ,\n",
              "        0.82943544],\n",
              "       [0.89958329, 0.61444798, 0.56553793, 0.45425734, 0.48425134,\n",
              "        0.83245049],\n",
              "       [0.89780707, 0.61421103, 0.56168271, 0.45435013, 0.48052274,\n",
              "        0.83469597],\n",
              "       [0.89551081, 0.61412047, 0.55792791, 0.45420805, 0.47678777,\n",
              "        0.83701097],\n",
              "       [0.892826  , 0.61537125, 0.55563896, 0.45519383, 0.47438138,\n",
              "        0.83953856],\n",
              "       [0.88973722, 0.61735558, 0.55474953, 0.45668248, 0.47334684,\n",
              "        0.84191844],\n",
              "       [0.88530376, 0.61992242, 0.55493226, 0.45809568, 0.47343373,\n",
              "        0.84414479],\n",
              "       [0.8800371 , 0.62310623, 0.55646256, 0.45920774, 0.47455355,\n",
              "        0.84595504],\n",
              "       [0.87478962, 0.62656537, 0.55901502, 0.46030113, 0.47660053,\n",
              "        0.84734398],\n",
              "       [0.87020923, 0.62895797, 0.56058712, 0.46052534, 0.47766977,\n",
              "        0.84826477],\n",
              "       [0.8663375 , 0.63029303, 0.56026986, 0.4604042 , 0.47769377,\n",
              "        0.84861073],\n",
              "       [0.86262469, 0.63066073, 0.55810966, 0.4595096 , 0.47646785,\n",
              "        0.84865184],\n",
              "       [0.85880591, 0.63115294, 0.55599167, 0.45893891, 0.47557412,\n",
              "        0.84858505],\n",
              "       [0.85473534, 0.63049385, 0.55351323, 0.45653504, 0.47347324,\n",
              "        0.84833168],\n",
              "       [0.85093557, 0.62852989, 0.55098052, 0.45289433, 0.47097254,\n",
              "        0.84796299],\n",
              "       [0.84764129, 0.62560442, 0.5484407 , 0.44939225, 0.46925823,\n",
              "        0.84757176],\n",
              "       [0.84429648, 0.62184547, 0.54551801, 0.44666143, 0.46847061,\n",
              "        0.84736792],\n",
              "       [0.841002  , 0.61864068, 0.54329506, 0.44508223, 0.46846561,\n",
              "        0.8472888 ],\n",
              "       [0.83783969, 0.61576047, 0.54074879, 0.44324445, 0.46770335,\n",
              "        0.84709718],\n",
              "       [0.83481521, 0.61269771, 0.5377468 , 0.4413665 , 0.46725214,\n",
              "        0.84670219]])"
            ]
          },
          "execution_count": 10,
          "metadata": {},
          "output_type": "execute_result"
        }
      ],
      "source": [
        "pdcca"
      ]
    }
  ],
  "metadata": {
    "kernelspec": {
      "display_name": ".venv",
      "language": "python",
      "name": "python3"
    },
    "language_info": {
      "codemirror_mode": {
        "name": "ipython",
        "version": 3
      },
      "file_extension": ".py",
      "mimetype": "text/x-python",
      "name": "python",
      "nbconvert_exporter": "python",
      "pygments_lexer": "ipython3",
      "version": "3.12.4"
    },
    "colab": {
      "provenance": [],
      "include_colab_link": true
    }
  },
  "nbformat": 4,
  "nbformat_minor": 0
}