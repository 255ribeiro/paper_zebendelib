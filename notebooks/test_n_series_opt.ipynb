{
  "cells": [
    {
      "cell_type": "markdown",
      "metadata": {
        "id": "view-in-github",
        "colab_type": "text"
      },
      "source": [
        "<a href=\"https://colab.research.google.com/github/255ribeiro/paper_zebendelib/blob/main/notebooks/test_n_series_opt.ipynb\" target=\"_parent\"><img src=\"https://colab.research.google.com/assets/colab-badge.svg\" alt=\"Open In Colab\"/></a>"
      ]
    },
    {
      "cell_type": "code",
      "execution_count": 23,
      "metadata": {
        "colab": {
          "base_uri": "https://localhost:8080/"
        },
        "id": "tklWWKipcgUA",
        "outputId": "644b6206-4b45-4edf-89a7-e8bb244c7d23"
      },
      "outputs": [
        {
          "output_type": "stream",
          "name": "stdout",
          "text": [
            "Requirement already satisfied: zebende==0.2.2 in /usr/local/lib/python3.11/dist-packages (0.2.2)\n",
            "Requirement already satisfied: numpy<3.0,>=1.26 in /usr/local/lib/python3.11/dist-packages (from zebende==0.2.2) (2.0.2)\n"
          ]
        }
      ],
      "source": [
        "!pip install zebende==0.2.2"
      ]
    },
    {
      "cell_type": "markdown",
      "metadata": {
        "id": "vlGsgDqBZPiG"
      },
      "source": [
        "### Set the number of time series to run the test"
      ]
    },
    {
      "cell_type": "code",
      "execution_count": 24,
      "metadata": {
        "id": "zBrF2YY_ZOxd"
      },
      "outputs": [],
      "source": [
        "import numpy as np\n",
        "import pandas as pd\n",
        "import matplotlib.pyplot as plt\n",
        "import zebende as zb\n",
        "import time"
      ]
    },
    {
      "cell_type": "code",
      "execution_count": 25,
      "metadata": {
        "id": "KiPsO1aTZOxe"
      },
      "outputs": [],
      "source": [
        "series_count = 12"
      ]
    },
    {
      "cell_type": "code",
      "execution_count": 26,
      "metadata": {
        "id": "nP2_lruqZOxe"
      },
      "outputs": [],
      "source": [
        "url = 'https://tinyurl.com/zbtestdata64c'"
      ]
    },
    {
      "cell_type": "code",
      "execution_count": 27,
      "metadata": {
        "colab": {
          "base_uri": "https://localhost:8080/"
        },
        "id": "QaVMrGDJZOxf",
        "outputId": "11e84f42-5282-4704-cb17-3464cbe035d5"
      },
      "outputs": [
        {
          "output_type": "stream",
          "name": "stdout",
          "text": [
            "(19920, 64)\n"
          ]
        },
        {
          "output_type": "execute_result",
          "data": {
            "text/plain": [
              "((19920, 12),\n",
              " array(['Fc5.', 'Fc3.', 'Fc1.', 'Fcz.', 'Fc2.', 'Fc4.', 'Fc6.', 'C5..',\n",
              "        'C3..', 'C1..', 'Cz..', 'C2..'], dtype=object))"
            ]
          },
          "metadata": {},
          "execution_count": 27
        }
      ],
      "source": [
        "df = pd.read_csv(url)\n",
        "print(df.shape)\n",
        "df = df.iloc[:, :series_count]\n",
        "df.shape, df.columns.to_numpy()"
      ]
    },
    {
      "cell_type": "code",
      "execution_count": 28,
      "metadata": {
        "id": "7OtXvjDdZOxf"
      },
      "outputs": [],
      "source": [
        "tws =  np.array([4, 5, 7, 9, 11, 13, 16, 20, 23, 28, 33, 38, 45, 52, 60, 69, 79, 91, 104, 119, 135, 154, 174, 198, 223, 252, 285, 321,\n",
        "  362, 407, 457, 513, 575, 645, 723, 809, 905, 1011, 1130, 1261, 1407, 1570])"
      ]
    },
    {
      "cell_type": "code",
      "execution_count": 29,
      "metadata": {
        "colab": {
          "base_uri": "https://localhost:8080/"
        },
        "id": "zcgGlF0zZOxf",
        "outputId": "62e61661-717f-4f45-d562-5fab449d004c"
      },
      "outputs": [
        {
          "output_type": "stream",
          "name": "stdout",
          "text": [
            "<class 'pandas.core.frame.DataFrame'>\n",
            "RangeIndex: 19920 entries, 0 to 19919\n",
            "Data columns (total 12 columns):\n",
            " #   Column  Non-Null Count  Dtype  \n",
            "---  ------  --------------  -----  \n",
            " 0   Fc5.    19920 non-null  float64\n",
            " 1   Fc3.    19920 non-null  float64\n",
            " 2   Fc1.    19920 non-null  float64\n",
            " 3   Fcz.    19920 non-null  float64\n",
            " 4   Fc2.    19920 non-null  float64\n",
            " 5   Fc4.    19920 non-null  float64\n",
            " 6   Fc6.    19920 non-null  float64\n",
            " 7   C5..    19920 non-null  float64\n",
            " 8   C3..    19920 non-null  float64\n",
            " 9   C1..    19920 non-null  float64\n",
            " 10  Cz..    19920 non-null  float64\n",
            " 11  C2..    19920 non-null  float64\n",
            "dtypes: float64(12)\n",
            "memory usage: 1.8 MB\n"
          ]
        }
      ],
      "source": [
        "df.info()"
      ]
    },
    {
      "cell_type": "code",
      "execution_count": 30,
      "metadata": {
        "colab": {
          "base_uri": "https://localhost:8080/"
        },
        "id": "5Pp8SoP9ZOxg",
        "outputId": "955da9a8-bb80-471f-f24b-88eb51c6eee0"
      },
      "outputs": [
        {
          "output_type": "stream",
          "name": "stdout",
          "text": [
            "[[-5.7e-05 -1.3e-05 -1.5e-05 ... -1.4e-05 -2.9e-05 -1.5e-05]\n",
            " [-4.9e-05 -1.1e-05 -1.0e-05 ... -2.3e-05 -4.1e-05 -3.1e-05]\n",
            " [-5.5e-05 -1.7e-05 -1.6e-05 ... -3.6e-05 -5.3e-05 -4.1e-05]\n",
            " ...\n",
            " [ 2.3e-05  1.4e-05  1.1e-05 ...  2.5e-05  3.3e-05  3.7e-05]\n",
            " [ 3.8e-05  2.7e-05  2.8e-05 ...  4.0e-05  5.1e-05  5.5e-05]\n",
            " [ 5.0e-05  3.5e-05  4.1e-05 ...  3.8e-05  4.9e-05  5.5e-05]]\n"
          ]
        }
      ],
      "source": [
        "mat = df.to_numpy()\n",
        "print(mat)"
      ]
    },
    {
      "cell_type": "code",
      "execution_count": 31,
      "metadata": {
        "colab": {
          "base_uri": "https://localhost:8080/"
        },
        "id": "USStL8zDZOxg",
        "outputId": "3c9a3366-d832-4e18-845c-f5e7912d6205"
      },
      "outputs": [
        {
          "output_type": "stream",
          "name": "stdout",
          "text": [
            "Time taken: 150.1963710784912 seconds\n"
          ]
        }
      ],
      "source": [
        "start_time = time.time()\n",
        "int_data = zb.integrated_series(mat, axis=1)\n",
        "dfa, dcca, pdcca = zb.p_dcca(int_data, tws, axis=1)\n",
        "end_time = time.time()\n",
        "print(f\"Time taken: {end_time - start_time} seconds\")"
      ]
    },
    {
      "cell_type": "code",
      "execution_count": 32,
      "metadata": {
        "colab": {
          "base_uri": "https://localhost:8080/"
        },
        "id": "USUHrL3LZOxg",
        "outputId": "7be3f888-cd6a-42b0-b02e-5d964c827afe"
      },
      "outputs": [
        {
          "output_type": "execute_result",
          "data": {
            "text/plain": [
              "array([[0.93385127, 0.84627662, 0.74370751, ..., 0.96825001, 0.89932728,\n",
              "        0.93776362],\n",
              "       [0.93802811, 0.85429926, 0.75425558, ..., 0.9697086 , 0.90139431,\n",
              "        0.94032568],\n",
              "       [0.94437743, 0.86733248, 0.77324954, ..., 0.9728351 , 0.90693506,\n",
              "        0.94457491],\n",
              "       ...,\n",
              "       [0.93700383, 0.87551046, 0.79527912, ..., 0.94109654, 0.70806739,\n",
              "        0.64554058],\n",
              "       [0.93367503, 0.87034236, 0.79027875, ..., 0.93495603, 0.69496998,\n",
              "        0.624299  ],\n",
              "       [0.92968033, 0.86377303, 0.78272763, ..., 0.92802758, 0.68128159,\n",
              "        0.60301603]])"
            ]
          },
          "metadata": {},
          "execution_count": 32
        }
      ],
      "source": [
        "pdcca"
      ]
    }
  ],
  "metadata": {
    "colab": {
      "provenance": [],
      "include_colab_link": true
    },
    "kernelspec": {
      "display_name": ".venv",
      "language": "python",
      "name": "python3"
    },
    "language_info": {
      "codemirror_mode": {
        "name": "ipython",
        "version": 3
      },
      "file_extension": ".py",
      "mimetype": "text/x-python",
      "name": "python",
      "nbconvert_exporter": "python",
      "pygments_lexer": "ipython3",
      "version": "3.12.4"
    }
  },
  "nbformat": 4,
  "nbformat_minor": 0
}