{
 "cells": [
  {
   "cell_type": "code",
   "execution_count": 22,
   "metadata": {},
   "outputs": [],
   "source": [
    "import numpy as np \n",
    "import pandas as pd\n",
    "import matplotlib.pyplot as plt\n",
    "import seaborn as sns"
   ]
  },
  {
   "cell_type": "code",
   "execution_count": null,
   "metadata": {},
   "outputs": [],
   "source": [
    "def get_time_data(file_path, column_name = 'elapsed time', label_column = None, label_value = None):\n",
    "    from pathlib import Path\n",
    "    file_path = Path(file_path)\n",
    "    \n",
    "    df_out = pd.DataFrame(columns=['number', 'tws size', column_name])\n",
    "\n",
    "    with open(file_path, 'r') as file:\n",
    "        for line in file.readlines():\n",
    "            line_list = line.split()\n",
    "            if line_list != []:\n",
    "                if line_list[0] == 'tws':\n",
    "                    line_temp = {'number' : [int(line_list[8])], 'tws size': [line_list[11]],  column_name:[line_list[2]] }\n",
    "                    df_temp = pd.DataFrame(line_temp)\n",
    "                    df_out = pd.concat([df_out, df_temp ])\n",
    "    if label_column != None:\n",
    "        df_out[label_column] = label_value\n",
    "    \n",
    "    df_out.set_index(\"number\", inplace=True)\n",
    "\n",
    "    return df_out"
   ]
  },
  {
   "cell_type": "code",
   "execution_count": 53,
   "metadata": {},
   "outputs": [
    {
     "name": "stdout",
     "output_type": "stream",
     "text": [
      "(42, 2)\n"
     ]
    },
    {
     "data": {
      "application/vnd.microsoft.datawrangler.viewer.v0+json": {
       "columns": [
        {
         "name": "number",
         "rawType": "object",
         "type": "unknown"
        },
        {
         "name": "tws size",
         "rawType": "object",
         "type": "string"
        },
        {
         "name": "Zig Optimized 4 TS",
         "rawType": "object",
         "type": "string"
        }
       ],
       "conversionMethod": "pd.DataFrame",
       "ref": "936e9990-3230-401d-8627-48ab1a17743c",
       "rows": [
        [
         "0",
         "4",
         "18"
        ],
        [
         "1",
         "5",
         "26"
        ],
        [
         "2",
         "7",
         "32"
        ],
        [
         "3",
         "9",
         "42"
        ],
        [
         "4",
         "11",
         "44"
        ],
        [
         "5",
         "13",
         "46"
        ],
        [
         "6",
         "16",
         "60"
        ],
        [
         "7",
         "20",
         "73"
        ],
        [
         "8",
         "23",
         "82"
        ],
        [
         "9",
         "28",
         "83"
        ],
        [
         "10",
         "33",
         "107"
        ],
        [
         "11",
         "38",
         "109"
        ],
        [
         "12",
         "45",
         "129"
        ],
        [
         "13",
         "52",
         "205"
        ],
        [
         "14",
         "60",
         "164"
        ],
        [
         "15",
         "69",
         "180"
        ],
        [
         "16",
         "79",
         "214"
        ],
        [
         "17",
         "91",
         "224"
        ],
        [
         "18",
         "104",
         "267"
        ],
        [
         "19",
         "119",
         "290"
        ],
        [
         "20",
         "135",
         "337"
        ],
        [
         "21",
         "154",
         "374"
        ],
        [
         "22",
         "174",
         "411"
        ],
        [
         "23",
         "198",
         "466"
        ],
        [
         "24",
         "223",
         "516"
        ],
        [
         "25",
         "252",
         "630"
        ],
        [
         "26",
         "285",
         "669"
        ],
        [
         "27",
         "321",
         "760"
        ],
        [
         "28",
         "362",
         "868"
        ],
        [
         "29",
         "407",
         "937"
        ],
        [
         "30",
         "457",
         "1051"
        ],
        [
         "31",
         "513",
         "1193"
        ],
        [
         "32",
         "575",
         "1341"
        ],
        [
         "33",
         "645",
         "1565"
        ],
        [
         "34",
         "723",
         "1808"
        ],
        [
         "35",
         "809",
         "2049"
        ],
        [
         "36",
         "905",
         "2218"
        ],
        [
         "37",
         "1011",
         "2841"
        ],
        [
         "38",
         "1130",
         "2644"
        ],
        [
         "39",
         "1261",
         "2886"
        ],
        [
         "40",
         "1407",
         "3061"
        ],
        [
         "41",
         "1570",
         "3385"
        ]
       ],
       "shape": {
        "columns": 2,
        "rows": 42
       }
      },
      "text/html": [
       "<div>\n",
       "<style scoped>\n",
       "    .dataframe tbody tr th:only-of-type {\n",
       "        vertical-align: middle;\n",
       "    }\n",
       "\n",
       "    .dataframe tbody tr th {\n",
       "        vertical-align: top;\n",
       "    }\n",
       "\n",
       "    .dataframe thead th {\n",
       "        text-align: right;\n",
       "    }\n",
       "</style>\n",
       "<table border=\"1\" class=\"dataframe\">\n",
       "  <thead>\n",
       "    <tr style=\"text-align: right;\">\n",
       "      <th></th>\n",
       "      <th>tws size</th>\n",
       "      <th>Zig Optimized 4 TS</th>\n",
       "    </tr>\n",
       "    <tr>\n",
       "      <th>number</th>\n",
       "      <th></th>\n",
       "      <th></th>\n",
       "    </tr>\n",
       "  </thead>\n",
       "  <tbody>\n",
       "    <tr>\n",
       "      <th>0</th>\n",
       "      <td>4</td>\n",
       "      <td>18</td>\n",
       "    </tr>\n",
       "    <tr>\n",
       "      <th>1</th>\n",
       "      <td>5</td>\n",
       "      <td>26</td>\n",
       "    </tr>\n",
       "    <tr>\n",
       "      <th>2</th>\n",
       "      <td>7</td>\n",
       "      <td>32</td>\n",
       "    </tr>\n",
       "    <tr>\n",
       "      <th>3</th>\n",
       "      <td>9</td>\n",
       "      <td>42</td>\n",
       "    </tr>\n",
       "    <tr>\n",
       "      <th>4</th>\n",
       "      <td>11</td>\n",
       "      <td>44</td>\n",
       "    </tr>\n",
       "    <tr>\n",
       "      <th>5</th>\n",
       "      <td>13</td>\n",
       "      <td>46</td>\n",
       "    </tr>\n",
       "    <tr>\n",
       "      <th>6</th>\n",
       "      <td>16</td>\n",
       "      <td>60</td>\n",
       "    </tr>\n",
       "    <tr>\n",
       "      <th>7</th>\n",
       "      <td>20</td>\n",
       "      <td>73</td>\n",
       "    </tr>\n",
       "    <tr>\n",
       "      <th>8</th>\n",
       "      <td>23</td>\n",
       "      <td>82</td>\n",
       "    </tr>\n",
       "    <tr>\n",
       "      <th>9</th>\n",
       "      <td>28</td>\n",
       "      <td>83</td>\n",
       "    </tr>\n",
       "    <tr>\n",
       "      <th>10</th>\n",
       "      <td>33</td>\n",
       "      <td>107</td>\n",
       "    </tr>\n",
       "    <tr>\n",
       "      <th>11</th>\n",
       "      <td>38</td>\n",
       "      <td>109</td>\n",
       "    </tr>\n",
       "    <tr>\n",
       "      <th>12</th>\n",
       "      <td>45</td>\n",
       "      <td>129</td>\n",
       "    </tr>\n",
       "    <tr>\n",
       "      <th>13</th>\n",
       "      <td>52</td>\n",
       "      <td>205</td>\n",
       "    </tr>\n",
       "    <tr>\n",
       "      <th>14</th>\n",
       "      <td>60</td>\n",
       "      <td>164</td>\n",
       "    </tr>\n",
       "    <tr>\n",
       "      <th>15</th>\n",
       "      <td>69</td>\n",
       "      <td>180</td>\n",
       "    </tr>\n",
       "    <tr>\n",
       "      <th>16</th>\n",
       "      <td>79</td>\n",
       "      <td>214</td>\n",
       "    </tr>\n",
       "    <tr>\n",
       "      <th>17</th>\n",
       "      <td>91</td>\n",
       "      <td>224</td>\n",
       "    </tr>\n",
       "    <tr>\n",
       "      <th>18</th>\n",
       "      <td>104</td>\n",
       "      <td>267</td>\n",
       "    </tr>\n",
       "    <tr>\n",
       "      <th>19</th>\n",
       "      <td>119</td>\n",
       "      <td>290</td>\n",
       "    </tr>\n",
       "    <tr>\n",
       "      <th>20</th>\n",
       "      <td>135</td>\n",
       "      <td>337</td>\n",
       "    </tr>\n",
       "    <tr>\n",
       "      <th>21</th>\n",
       "      <td>154</td>\n",
       "      <td>374</td>\n",
       "    </tr>\n",
       "    <tr>\n",
       "      <th>22</th>\n",
       "      <td>174</td>\n",
       "      <td>411</td>\n",
       "    </tr>\n",
       "    <tr>\n",
       "      <th>23</th>\n",
       "      <td>198</td>\n",
       "      <td>466</td>\n",
       "    </tr>\n",
       "    <tr>\n",
       "      <th>24</th>\n",
       "      <td>223</td>\n",
       "      <td>516</td>\n",
       "    </tr>\n",
       "    <tr>\n",
       "      <th>25</th>\n",
       "      <td>252</td>\n",
       "      <td>630</td>\n",
       "    </tr>\n",
       "    <tr>\n",
       "      <th>26</th>\n",
       "      <td>285</td>\n",
       "      <td>669</td>\n",
       "    </tr>\n",
       "    <tr>\n",
       "      <th>27</th>\n",
       "      <td>321</td>\n",
       "      <td>760</td>\n",
       "    </tr>\n",
       "    <tr>\n",
       "      <th>28</th>\n",
       "      <td>362</td>\n",
       "      <td>868</td>\n",
       "    </tr>\n",
       "    <tr>\n",
       "      <th>29</th>\n",
       "      <td>407</td>\n",
       "      <td>937</td>\n",
       "    </tr>\n",
       "    <tr>\n",
       "      <th>30</th>\n",
       "      <td>457</td>\n",
       "      <td>1051</td>\n",
       "    </tr>\n",
       "    <tr>\n",
       "      <th>31</th>\n",
       "      <td>513</td>\n",
       "      <td>1193</td>\n",
       "    </tr>\n",
       "    <tr>\n",
       "      <th>32</th>\n",
       "      <td>575</td>\n",
       "      <td>1341</td>\n",
       "    </tr>\n",
       "    <tr>\n",
       "      <th>33</th>\n",
       "      <td>645</td>\n",
       "      <td>1565</td>\n",
       "    </tr>\n",
       "    <tr>\n",
       "      <th>34</th>\n",
       "      <td>723</td>\n",
       "      <td>1808</td>\n",
       "    </tr>\n",
       "    <tr>\n",
       "      <th>35</th>\n",
       "      <td>809</td>\n",
       "      <td>2049</td>\n",
       "    </tr>\n",
       "    <tr>\n",
       "      <th>36</th>\n",
       "      <td>905</td>\n",
       "      <td>2218</td>\n",
       "    </tr>\n",
       "    <tr>\n",
       "      <th>37</th>\n",
       "      <td>1011</td>\n",
       "      <td>2841</td>\n",
       "    </tr>\n",
       "    <tr>\n",
       "      <th>38</th>\n",
       "      <td>1130</td>\n",
       "      <td>2644</td>\n",
       "    </tr>\n",
       "    <tr>\n",
       "      <th>39</th>\n",
       "      <td>1261</td>\n",
       "      <td>2886</td>\n",
       "    </tr>\n",
       "    <tr>\n",
       "      <th>40</th>\n",
       "      <td>1407</td>\n",
       "      <td>3061</td>\n",
       "    </tr>\n",
       "    <tr>\n",
       "      <th>41</th>\n",
       "      <td>1570</td>\n",
       "      <td>3385</td>\n",
       "    </tr>\n",
       "  </tbody>\n",
       "</table>\n",
       "</div>"
      ],
      "text/plain": [
       "       tws size Zig Optimized 4 TS\n",
       "number                            \n",
       "0             4                 18\n",
       "1             5                 26\n",
       "2             7                 32\n",
       "3             9                 42\n",
       "4            11                 44\n",
       "5            13                 46\n",
       "6            16                 60\n",
       "7            20                 73\n",
       "8            23                 82\n",
       "9            28                 83\n",
       "10           33                107\n",
       "11           38                109\n",
       "12           45                129\n",
       "13           52                205\n",
       "14           60                164\n",
       "15           69                180\n",
       "16           79                214\n",
       "17           91                224\n",
       "18          104                267\n",
       "19          119                290\n",
       "20          135                337\n",
       "21          154                374\n",
       "22          174                411\n",
       "23          198                466\n",
       "24          223                516\n",
       "25          252                630\n",
       "26          285                669\n",
       "27          321                760\n",
       "28          362                868\n",
       "29          407                937\n",
       "30          457               1051\n",
       "31          513               1193\n",
       "32          575               1341\n",
       "33          645               1565\n",
       "34          723               1808\n",
       "35          809               2049\n",
       "36          905               2218\n",
       "37         1011               2841\n",
       "38         1130               2644\n",
       "39         1261               2886\n",
       "40         1407               3061\n",
       "41         1570               3385"
      ]
     },
     "execution_count": 53,
     "metadata": {},
     "output_type": "execute_result"
    }
   ],
   "source": [
    "df_opt = get_time_data('../compared_perf/opt_04.txt',\n",
    "                     #   \"elapsed\"\n",
    "                       \"Zig Optimized 4 TS\"\n",
    "                       )\n",
    "\n",
    "print(df_opt.shape)\n",
    "df_opt"
   ]
  },
  {
   "cell_type": "code",
   "execution_count": 25,
   "metadata": {},
   "outputs": [
    {
     "name": "stdout",
     "output_type": "stream",
     "text": [
      "(42, 2)\n"
     ]
    },
    {
     "data": {
      "application/vnd.microsoft.datawrangler.viewer.v0+json": {
       "columns": [
        {
         "name": "number",
         "rawType": "object",
         "type": "unknown"
        },
        {
         "name": "tws size",
         "rawType": "object",
         "type": "string"
        },
        {
         "name": "Zig Basic 4 TS",
         "rawType": "object",
         "type": "string"
        }
       ],
       "conversionMethod": "pd.DataFrame",
       "ref": "51adcd4a-4bb5-4622-b3ec-812aef418725",
       "rows": [
        [
         "0",
         "4",
         "33"
        ],
        [
         "1",
         "5",
         "38"
        ],
        [
         "2",
         "7",
         "48"
        ],
        [
         "3",
         "9",
         "59"
        ],
        [
         "4",
         "11",
         "66"
        ],
        [
         "5",
         "13",
         "74"
        ],
        [
         "6",
         "16",
         "129"
        ],
        [
         "7",
         "20",
         "130"
        ],
        [
         "8",
         "23",
         "125"
        ],
        [
         "9",
         "28",
         "155"
        ],
        [
         "10",
         "33",
         "161"
        ],
        [
         "11",
         "38",
         "175"
        ],
        [
         "12",
         "45",
         "193"
        ],
        [
         "13",
         "52",
         "221"
        ],
        [
         "14",
         "60",
         "276"
        ],
        [
         "15",
         "69",
         "317"
        ],
        [
         "16",
         "79",
         "372"
        ],
        [
         "17",
         "91",
         "424"
        ],
        [
         "18",
         "104",
         "420"
        ],
        [
         "19",
         "119",
         "484"
        ],
        [
         "20",
         "135",
         "560"
        ],
        [
         "21",
         "154",
         "693"
        ],
        [
         "22",
         "174",
         "778"
        ],
        [
         "23",
         "198",
         "965"
        ],
        [
         "24",
         "223",
         "1004"
        ],
        [
         "25",
         "252",
         "1140"
        ],
        [
         "26",
         "285",
         "1257"
        ],
        [
         "27",
         "321",
         "1475"
        ],
        [
         "28",
         "362",
         "1657"
        ],
        [
         "29",
         "407",
         "1572"
        ],
        [
         "30",
         "457",
         "1794"
        ],
        [
         "31",
         "513",
         "1966"
        ],
        [
         "32",
         "575",
         "2203"
        ],
        [
         "33",
         "645",
         "2517"
        ],
        [
         "34",
         "723",
         "2725"
        ],
        [
         "35",
         "809",
         "3023"
        ],
        [
         "36",
         "905",
         "3496"
        ],
        [
         "37",
         "1011",
         "3754"
        ],
        [
         "38",
         "1130",
         "4169"
        ],
        [
         "39",
         "1261",
         "5009"
        ],
        [
         "40",
         "1407",
         "5229"
        ],
        [
         "41",
         "1570",
         "5943"
        ]
       ],
       "shape": {
        "columns": 2,
        "rows": 42
       }
      },
      "text/html": [
       "<div>\n",
       "<style scoped>\n",
       "    .dataframe tbody tr th:only-of-type {\n",
       "        vertical-align: middle;\n",
       "    }\n",
       "\n",
       "    .dataframe tbody tr th {\n",
       "        vertical-align: top;\n",
       "    }\n",
       "\n",
       "    .dataframe thead th {\n",
       "        text-align: right;\n",
       "    }\n",
       "</style>\n",
       "<table border=\"1\" class=\"dataframe\">\n",
       "  <thead>\n",
       "    <tr style=\"text-align: right;\">\n",
       "      <th></th>\n",
       "      <th>tws size</th>\n",
       "      <th>Zig Basic 4 TS</th>\n",
       "    </tr>\n",
       "    <tr>\n",
       "      <th>number</th>\n",
       "      <th></th>\n",
       "      <th></th>\n",
       "    </tr>\n",
       "  </thead>\n",
       "  <tbody>\n",
       "    <tr>\n",
       "      <th>0</th>\n",
       "      <td>4</td>\n",
       "      <td>33</td>\n",
       "    </tr>\n",
       "    <tr>\n",
       "      <th>1</th>\n",
       "      <td>5</td>\n",
       "      <td>38</td>\n",
       "    </tr>\n",
       "    <tr>\n",
       "      <th>2</th>\n",
       "      <td>7</td>\n",
       "      <td>48</td>\n",
       "    </tr>\n",
       "    <tr>\n",
       "      <th>3</th>\n",
       "      <td>9</td>\n",
       "      <td>59</td>\n",
       "    </tr>\n",
       "    <tr>\n",
       "      <th>4</th>\n",
       "      <td>11</td>\n",
       "      <td>66</td>\n",
       "    </tr>\n",
       "    <tr>\n",
       "      <th>5</th>\n",
       "      <td>13</td>\n",
       "      <td>74</td>\n",
       "    </tr>\n",
       "    <tr>\n",
       "      <th>6</th>\n",
       "      <td>16</td>\n",
       "      <td>129</td>\n",
       "    </tr>\n",
       "    <tr>\n",
       "      <th>7</th>\n",
       "      <td>20</td>\n",
       "      <td>130</td>\n",
       "    </tr>\n",
       "    <tr>\n",
       "      <th>8</th>\n",
       "      <td>23</td>\n",
       "      <td>125</td>\n",
       "    </tr>\n",
       "    <tr>\n",
       "      <th>9</th>\n",
       "      <td>28</td>\n",
       "      <td>155</td>\n",
       "    </tr>\n",
       "    <tr>\n",
       "      <th>10</th>\n",
       "      <td>33</td>\n",
       "      <td>161</td>\n",
       "    </tr>\n",
       "    <tr>\n",
       "      <th>11</th>\n",
       "      <td>38</td>\n",
       "      <td>175</td>\n",
       "    </tr>\n",
       "    <tr>\n",
       "      <th>12</th>\n",
       "      <td>45</td>\n",
       "      <td>193</td>\n",
       "    </tr>\n",
       "    <tr>\n",
       "      <th>13</th>\n",
       "      <td>52</td>\n",
       "      <td>221</td>\n",
       "    </tr>\n",
       "    <tr>\n",
       "      <th>14</th>\n",
       "      <td>60</td>\n",
       "      <td>276</td>\n",
       "    </tr>\n",
       "    <tr>\n",
       "      <th>15</th>\n",
       "      <td>69</td>\n",
       "      <td>317</td>\n",
       "    </tr>\n",
       "    <tr>\n",
       "      <th>16</th>\n",
       "      <td>79</td>\n",
       "      <td>372</td>\n",
       "    </tr>\n",
       "    <tr>\n",
       "      <th>17</th>\n",
       "      <td>91</td>\n",
       "      <td>424</td>\n",
       "    </tr>\n",
       "    <tr>\n",
       "      <th>18</th>\n",
       "      <td>104</td>\n",
       "      <td>420</td>\n",
       "    </tr>\n",
       "    <tr>\n",
       "      <th>19</th>\n",
       "      <td>119</td>\n",
       "      <td>484</td>\n",
       "    </tr>\n",
       "    <tr>\n",
       "      <th>20</th>\n",
       "      <td>135</td>\n",
       "      <td>560</td>\n",
       "    </tr>\n",
       "    <tr>\n",
       "      <th>21</th>\n",
       "      <td>154</td>\n",
       "      <td>693</td>\n",
       "    </tr>\n",
       "    <tr>\n",
       "      <th>22</th>\n",
       "      <td>174</td>\n",
       "      <td>778</td>\n",
       "    </tr>\n",
       "    <tr>\n",
       "      <th>23</th>\n",
       "      <td>198</td>\n",
       "      <td>965</td>\n",
       "    </tr>\n",
       "    <tr>\n",
       "      <th>24</th>\n",
       "      <td>223</td>\n",
       "      <td>1004</td>\n",
       "    </tr>\n",
       "    <tr>\n",
       "      <th>25</th>\n",
       "      <td>252</td>\n",
       "      <td>1140</td>\n",
       "    </tr>\n",
       "    <tr>\n",
       "      <th>26</th>\n",
       "      <td>285</td>\n",
       "      <td>1257</td>\n",
       "    </tr>\n",
       "    <tr>\n",
       "      <th>27</th>\n",
       "      <td>321</td>\n",
       "      <td>1475</td>\n",
       "    </tr>\n",
       "    <tr>\n",
       "      <th>28</th>\n",
       "      <td>362</td>\n",
       "      <td>1657</td>\n",
       "    </tr>\n",
       "    <tr>\n",
       "      <th>29</th>\n",
       "      <td>407</td>\n",
       "      <td>1572</td>\n",
       "    </tr>\n",
       "    <tr>\n",
       "      <th>30</th>\n",
       "      <td>457</td>\n",
       "      <td>1794</td>\n",
       "    </tr>\n",
       "    <tr>\n",
       "      <th>31</th>\n",
       "      <td>513</td>\n",
       "      <td>1966</td>\n",
       "    </tr>\n",
       "    <tr>\n",
       "      <th>32</th>\n",
       "      <td>575</td>\n",
       "      <td>2203</td>\n",
       "    </tr>\n",
       "    <tr>\n",
       "      <th>33</th>\n",
       "      <td>645</td>\n",
       "      <td>2517</td>\n",
       "    </tr>\n",
       "    <tr>\n",
       "      <th>34</th>\n",
       "      <td>723</td>\n",
       "      <td>2725</td>\n",
       "    </tr>\n",
       "    <tr>\n",
       "      <th>35</th>\n",
       "      <td>809</td>\n",
       "      <td>3023</td>\n",
       "    </tr>\n",
       "    <tr>\n",
       "      <th>36</th>\n",
       "      <td>905</td>\n",
       "      <td>3496</td>\n",
       "    </tr>\n",
       "    <tr>\n",
       "      <th>37</th>\n",
       "      <td>1011</td>\n",
       "      <td>3754</td>\n",
       "    </tr>\n",
       "    <tr>\n",
       "      <th>38</th>\n",
       "      <td>1130</td>\n",
       "      <td>4169</td>\n",
       "    </tr>\n",
       "    <tr>\n",
       "      <th>39</th>\n",
       "      <td>1261</td>\n",
       "      <td>5009</td>\n",
       "    </tr>\n",
       "    <tr>\n",
       "      <th>40</th>\n",
       "      <td>1407</td>\n",
       "      <td>5229</td>\n",
       "    </tr>\n",
       "    <tr>\n",
       "      <th>41</th>\n",
       "      <td>1570</td>\n",
       "      <td>5943</td>\n",
       "    </tr>\n",
       "  </tbody>\n",
       "</table>\n",
       "</div>"
      ],
      "text/plain": [
       "       tws size Zig Basic 4 TS\n",
       "number                        \n",
       "0             4             33\n",
       "1             5             38\n",
       "2             7             48\n",
       "3             9             59\n",
       "4            11             66\n",
       "5            13             74\n",
       "6            16            129\n",
       "7            20            130\n",
       "8            23            125\n",
       "9            28            155\n",
       "10           33            161\n",
       "11           38            175\n",
       "12           45            193\n",
       "13           52            221\n",
       "14           60            276\n",
       "15           69            317\n",
       "16           79            372\n",
       "17           91            424\n",
       "18          104            420\n",
       "19          119            484\n",
       "20          135            560\n",
       "21          154            693\n",
       "22          174            778\n",
       "23          198            965\n",
       "24          223           1004\n",
       "25          252           1140\n",
       "26          285           1257\n",
       "27          321           1475\n",
       "28          362           1657\n",
       "29          407           1572\n",
       "30          457           1794\n",
       "31          513           1966\n",
       "32          575           2203\n",
       "33          645           2517\n",
       "34          723           2725\n",
       "35          809           3023\n",
       "36          905           3496\n",
       "37         1011           3754\n",
       "38         1130           4169\n",
       "39         1261           5009\n",
       "40         1407           5229\n",
       "41         1570           5943"
      ]
     },
     "execution_count": 25,
     "metadata": {},
     "output_type": "execute_result"
    }
   ],
   "source": [
    "df_basic = get_time_data('../compared_perf/basic_04.txt',\n",
    "                     #   \"elapsed\"\n",
    "                       \"Zig Basic 4 TS\"\n",
    "                       )\n",
    "\n",
    "print(df_basic.shape)\n",
    "df_basic"
   ]
  },
  {
   "cell_type": "code",
   "execution_count": 43,
   "metadata": {},
   "outputs": [
    {
     "data": {
      "application/vnd.microsoft.datawrangler.viewer.v0+json": {
       "columns": [
        {
         "name": "index",
         "rawType": "int64",
         "type": "integer"
        },
        {
         "name": "tws size",
         "rawType": "object",
         "type": "string"
        },
        {
         "name": "Zig Basic 4 TS",
         "rawType": "object",
         "type": "string"
        },
        {
         "name": "Zig Optimized 4 TS",
         "rawType": "object",
         "type": "string"
        }
       ],
       "conversionMethod": "pd.DataFrame",
       "ref": "9a1d203c-be97-40e8-80a3-c441623cecd6",
       "rows": [
        [
         "0",
         "4",
         "33",
         "18"
        ],
        [
         "1",
         "5",
         "38",
         "26"
        ],
        [
         "2",
         "7",
         "48",
         "32"
        ],
        [
         "3",
         "9",
         "59",
         "42"
        ],
        [
         "4",
         "11",
         "66",
         "44"
        ],
        [
         "5",
         "13",
         "74",
         "46"
        ],
        [
         "6",
         "16",
         "129",
         "60"
        ],
        [
         "7",
         "20",
         "130",
         "73"
        ],
        [
         "8",
         "23",
         "125",
         "82"
        ],
        [
         "9",
         "28",
         "155",
         "83"
        ],
        [
         "10",
         "33",
         "161",
         "107"
        ],
        [
         "11",
         "38",
         "175",
         "109"
        ],
        [
         "12",
         "45",
         "193",
         "129"
        ],
        [
         "13",
         "52",
         "221",
         "205"
        ],
        [
         "14",
         "60",
         "276",
         "164"
        ],
        [
         "15",
         "69",
         "317",
         "180"
        ],
        [
         "16",
         "79",
         "372",
         "214"
        ],
        [
         "17",
         "91",
         "424",
         "224"
        ],
        [
         "18",
         "104",
         "420",
         "267"
        ],
        [
         "19",
         "119",
         "484",
         "290"
        ],
        [
         "20",
         "135",
         "560",
         "337"
        ],
        [
         "21",
         "154",
         "693",
         "374"
        ],
        [
         "22",
         "174",
         "778",
         "411"
        ],
        [
         "23",
         "198",
         "965",
         "466"
        ],
        [
         "24",
         "223",
         "1004",
         "516"
        ],
        [
         "25",
         "252",
         "1140",
         "630"
        ],
        [
         "26",
         "285",
         "1257",
         "669"
        ],
        [
         "27",
         "321",
         "1475",
         "760"
        ],
        [
         "28",
         "362",
         "1657",
         "868"
        ],
        [
         "29",
         "407",
         "1572",
         "937"
        ],
        [
         "30",
         "457",
         "1794",
         "1051"
        ],
        [
         "31",
         "513",
         "1966",
         "1193"
        ],
        [
         "32",
         "575",
         "2203",
         "1341"
        ],
        [
         "33",
         "645",
         "2517",
         "1565"
        ],
        [
         "34",
         "723",
         "2725",
         "1808"
        ],
        [
         "35",
         "809",
         "3023",
         "2049"
        ],
        [
         "36",
         "905",
         "3496",
         "2218"
        ],
        [
         "37",
         "1011",
         "3754",
         "2841"
        ],
        [
         "38",
         "1130",
         "4169",
         "2644"
        ],
        [
         "39",
         "1261",
         "5009",
         "2886"
        ],
        [
         "40",
         "1407",
         "5229",
         "3061"
        ],
        [
         "41",
         "1570",
         "5943",
         "3385"
        ]
       ],
       "shape": {
        "columns": 3,
        "rows": 42
       }
      },
      "text/html": [
       "<div>\n",
       "<style scoped>\n",
       "    .dataframe tbody tr th:only-of-type {\n",
       "        vertical-align: middle;\n",
       "    }\n",
       "\n",
       "    .dataframe tbody tr th {\n",
       "        vertical-align: top;\n",
       "    }\n",
       "\n",
       "    .dataframe thead th {\n",
       "        text-align: right;\n",
       "    }\n",
       "</style>\n",
       "<table border=\"1\" class=\"dataframe\">\n",
       "  <thead>\n",
       "    <tr style=\"text-align: right;\">\n",
       "      <th></th>\n",
       "      <th>tws size</th>\n",
       "      <th>Zig Basic 4 TS</th>\n",
       "      <th>Zig Optimized 4 TS</th>\n",
       "    </tr>\n",
       "  </thead>\n",
       "  <tbody>\n",
       "    <tr>\n",
       "      <th>0</th>\n",
       "      <td>4</td>\n",
       "      <td>33</td>\n",
       "      <td>18</td>\n",
       "    </tr>\n",
       "    <tr>\n",
       "      <th>1</th>\n",
       "      <td>5</td>\n",
       "      <td>38</td>\n",
       "      <td>26</td>\n",
       "    </tr>\n",
       "    <tr>\n",
       "      <th>2</th>\n",
       "      <td>7</td>\n",
       "      <td>48</td>\n",
       "      <td>32</td>\n",
       "    </tr>\n",
       "    <tr>\n",
       "      <th>3</th>\n",
       "      <td>9</td>\n",
       "      <td>59</td>\n",
       "      <td>42</td>\n",
       "    </tr>\n",
       "    <tr>\n",
       "      <th>4</th>\n",
       "      <td>11</td>\n",
       "      <td>66</td>\n",
       "      <td>44</td>\n",
       "    </tr>\n",
       "    <tr>\n",
       "      <th>5</th>\n",
       "      <td>13</td>\n",
       "      <td>74</td>\n",
       "      <td>46</td>\n",
       "    </tr>\n",
       "    <tr>\n",
       "      <th>6</th>\n",
       "      <td>16</td>\n",
       "      <td>129</td>\n",
       "      <td>60</td>\n",
       "    </tr>\n",
       "    <tr>\n",
       "      <th>7</th>\n",
       "      <td>20</td>\n",
       "      <td>130</td>\n",
       "      <td>73</td>\n",
       "    </tr>\n",
       "    <tr>\n",
       "      <th>8</th>\n",
       "      <td>23</td>\n",
       "      <td>125</td>\n",
       "      <td>82</td>\n",
       "    </tr>\n",
       "    <tr>\n",
       "      <th>9</th>\n",
       "      <td>28</td>\n",
       "      <td>155</td>\n",
       "      <td>83</td>\n",
       "    </tr>\n",
       "    <tr>\n",
       "      <th>10</th>\n",
       "      <td>33</td>\n",
       "      <td>161</td>\n",
       "      <td>107</td>\n",
       "    </tr>\n",
       "    <tr>\n",
       "      <th>11</th>\n",
       "      <td>38</td>\n",
       "      <td>175</td>\n",
       "      <td>109</td>\n",
       "    </tr>\n",
       "    <tr>\n",
       "      <th>12</th>\n",
       "      <td>45</td>\n",
       "      <td>193</td>\n",
       "      <td>129</td>\n",
       "    </tr>\n",
       "    <tr>\n",
       "      <th>13</th>\n",
       "      <td>52</td>\n",
       "      <td>221</td>\n",
       "      <td>205</td>\n",
       "    </tr>\n",
       "    <tr>\n",
       "      <th>14</th>\n",
       "      <td>60</td>\n",
       "      <td>276</td>\n",
       "      <td>164</td>\n",
       "    </tr>\n",
       "    <tr>\n",
       "      <th>15</th>\n",
       "      <td>69</td>\n",
       "      <td>317</td>\n",
       "      <td>180</td>\n",
       "    </tr>\n",
       "    <tr>\n",
       "      <th>16</th>\n",
       "      <td>79</td>\n",
       "      <td>372</td>\n",
       "      <td>214</td>\n",
       "    </tr>\n",
       "    <tr>\n",
       "      <th>17</th>\n",
       "      <td>91</td>\n",
       "      <td>424</td>\n",
       "      <td>224</td>\n",
       "    </tr>\n",
       "    <tr>\n",
       "      <th>18</th>\n",
       "      <td>104</td>\n",
       "      <td>420</td>\n",
       "      <td>267</td>\n",
       "    </tr>\n",
       "    <tr>\n",
       "      <th>19</th>\n",
       "      <td>119</td>\n",
       "      <td>484</td>\n",
       "      <td>290</td>\n",
       "    </tr>\n",
       "    <tr>\n",
       "      <th>20</th>\n",
       "      <td>135</td>\n",
       "      <td>560</td>\n",
       "      <td>337</td>\n",
       "    </tr>\n",
       "    <tr>\n",
       "      <th>21</th>\n",
       "      <td>154</td>\n",
       "      <td>693</td>\n",
       "      <td>374</td>\n",
       "    </tr>\n",
       "    <tr>\n",
       "      <th>22</th>\n",
       "      <td>174</td>\n",
       "      <td>778</td>\n",
       "      <td>411</td>\n",
       "    </tr>\n",
       "    <tr>\n",
       "      <th>23</th>\n",
       "      <td>198</td>\n",
       "      <td>965</td>\n",
       "      <td>466</td>\n",
       "    </tr>\n",
       "    <tr>\n",
       "      <th>24</th>\n",
       "      <td>223</td>\n",
       "      <td>1004</td>\n",
       "      <td>516</td>\n",
       "    </tr>\n",
       "    <tr>\n",
       "      <th>25</th>\n",
       "      <td>252</td>\n",
       "      <td>1140</td>\n",
       "      <td>630</td>\n",
       "    </tr>\n",
       "    <tr>\n",
       "      <th>26</th>\n",
       "      <td>285</td>\n",
       "      <td>1257</td>\n",
       "      <td>669</td>\n",
       "    </tr>\n",
       "    <tr>\n",
       "      <th>27</th>\n",
       "      <td>321</td>\n",
       "      <td>1475</td>\n",
       "      <td>760</td>\n",
       "    </tr>\n",
       "    <tr>\n",
       "      <th>28</th>\n",
       "      <td>362</td>\n",
       "      <td>1657</td>\n",
       "      <td>868</td>\n",
       "    </tr>\n",
       "    <tr>\n",
       "      <th>29</th>\n",
       "      <td>407</td>\n",
       "      <td>1572</td>\n",
       "      <td>937</td>\n",
       "    </tr>\n",
       "    <tr>\n",
       "      <th>30</th>\n",
       "      <td>457</td>\n",
       "      <td>1794</td>\n",
       "      <td>1051</td>\n",
       "    </tr>\n",
       "    <tr>\n",
       "      <th>31</th>\n",
       "      <td>513</td>\n",
       "      <td>1966</td>\n",
       "      <td>1193</td>\n",
       "    </tr>\n",
       "    <tr>\n",
       "      <th>32</th>\n",
       "      <td>575</td>\n",
       "      <td>2203</td>\n",
       "      <td>1341</td>\n",
       "    </tr>\n",
       "    <tr>\n",
       "      <th>33</th>\n",
       "      <td>645</td>\n",
       "      <td>2517</td>\n",
       "      <td>1565</td>\n",
       "    </tr>\n",
       "    <tr>\n",
       "      <th>34</th>\n",
       "      <td>723</td>\n",
       "      <td>2725</td>\n",
       "      <td>1808</td>\n",
       "    </tr>\n",
       "    <tr>\n",
       "      <th>35</th>\n",
       "      <td>809</td>\n",
       "      <td>3023</td>\n",
       "      <td>2049</td>\n",
       "    </tr>\n",
       "    <tr>\n",
       "      <th>36</th>\n",
       "      <td>905</td>\n",
       "      <td>3496</td>\n",
       "      <td>2218</td>\n",
       "    </tr>\n",
       "    <tr>\n",
       "      <th>37</th>\n",
       "      <td>1011</td>\n",
       "      <td>3754</td>\n",
       "      <td>2841</td>\n",
       "    </tr>\n",
       "    <tr>\n",
       "      <th>38</th>\n",
       "      <td>1130</td>\n",
       "      <td>4169</td>\n",
       "      <td>2644</td>\n",
       "    </tr>\n",
       "    <tr>\n",
       "      <th>39</th>\n",
       "      <td>1261</td>\n",
       "      <td>5009</td>\n",
       "      <td>2886</td>\n",
       "    </tr>\n",
       "    <tr>\n",
       "      <th>40</th>\n",
       "      <td>1407</td>\n",
       "      <td>5229</td>\n",
       "      <td>3061</td>\n",
       "    </tr>\n",
       "    <tr>\n",
       "      <th>41</th>\n",
       "      <td>1570</td>\n",
       "      <td>5943</td>\n",
       "      <td>3385</td>\n",
       "    </tr>\n",
       "  </tbody>\n",
       "</table>\n",
       "</div>"
      ],
      "text/plain": [
       "   tws size Zig Basic 4 TS Zig Optimized 4 TS\n",
       "0         4             33                 18\n",
       "1         5             38                 26\n",
       "2         7             48                 32\n",
       "3         9             59                 42\n",
       "4        11             66                 44\n",
       "5        13             74                 46\n",
       "6        16            129                 60\n",
       "7        20            130                 73\n",
       "8        23            125                 82\n",
       "9        28            155                 83\n",
       "10       33            161                107\n",
       "11       38            175                109\n",
       "12       45            193                129\n",
       "13       52            221                205\n",
       "14       60            276                164\n",
       "15       69            317                180\n",
       "16       79            372                214\n",
       "17       91            424                224\n",
       "18      104            420                267\n",
       "19      119            484                290\n",
       "20      135            560                337\n",
       "21      154            693                374\n",
       "22      174            778                411\n",
       "23      198            965                466\n",
       "24      223           1004                516\n",
       "25      252           1140                630\n",
       "26      285           1257                669\n",
       "27      321           1475                760\n",
       "28      362           1657                868\n",
       "29      407           1572                937\n",
       "30      457           1794               1051\n",
       "31      513           1966               1193\n",
       "32      575           2203               1341\n",
       "33      645           2517               1565\n",
       "34      723           2725               1808\n",
       "35      809           3023               2049\n",
       "36      905           3496               2218\n",
       "37     1011           3754               2841\n",
       "38     1130           4169               2644\n",
       "39     1261           5009               2886\n",
       "40     1407           5229               3061\n",
       "41     1570           5943               3385"
      ]
     },
     "execution_count": 43,
     "metadata": {},
     "output_type": "execute_result"
    }
   ],
   "source": [
    "\n",
    "df_04 = pd.merge(df_basic,df_opt, on=\"tws size\")\n",
    "df_04\n"
   ]
  },
  {
   "cell_type": "code",
   "execution_count": 30,
   "metadata": {},
   "outputs": [
    {
     "name": "stderr",
     "output_type": "stream",
     "text": [
      "C:\\Users\\Nando\\AppData\\Local\\Temp\\ipykernel_18044\\1245724163.py:38: UserWarning: set_ticklabels() should only be used with a fixed number of ticks, i.e. after set_ticks() or using a FixedLocator.\n",
      "  ax.set_yticklabels(ax.get_yticks(), fontsize=12)\n"
     ]
    },
    {
     "data": {
      "image/png": "[encoded data removed]",
      "text/plain": [
       "<Figure size 1500x1000 with 1 Axes>"
      ]
     },
     "metadata": {},
     "output_type": "display_data"
    }
   ],
   "source": [
    "bar_width = .4\n",
    "opacity = 0.8\n",
    "bar_offset = 0\n",
    "x_len = df_basic.shape[0]\n",
    "\n",
    "x = np.arange(x_len) + bar_offset\n",
    "\n",
    "fig, ax = plt.subplots(1,1, figsize=(15,10))\n",
    "\n",
    "ax.bar(\n",
    "        x + bar_width * .5 , \n",
    "        df_basic[\"Zig Basic 4 TS\"].astype(int), \n",
    "        width=bar_width, \n",
    "        color='#FF2C55',\n",
    "\n",
    "        alpha=opacity, \n",
    "        # edgecolor='black', \n",
    "        label='Zig Basic 4 TS'\n",
    "        )\n",
    "\n",
    "\n",
    "ax.bar(\n",
    "        x - bar_width * .5, \n",
    "        df_opt[\"Zig Optimized 4 TS\"].astype(int),\n",
    "        width=bar_width, \n",
    "        color='#9bc4fd',    \n",
    "        alpha=opacity, \n",
    "        # edgecolor='black', \n",
    "        label='Zig Optimaized 4 TS')\n",
    "# ax.semilogx()\n",
    "ax.legend(fontsize=20)\n",
    "ax.set_xlim([-bar_width * 1.5 , x_len - bar_width ])\n",
    "\n",
    "ax.tick_params(axis='x', labelrotation=90)\n",
    "np.arange(0, 11, step=1)\n",
    "ax.set_xticks(np.arange(42),df_basic[\"tws size\"], fontsize=12)\n",
    "ax.set_xlabel(\"Time scales\", fontsize=20)\n",
    "ax.set_yticklabels(ax.get_yticks(), fontsize=12)\n",
    "ax.set_ylabel(\"Elapsed time (mili seconds)\", fontsize=20)\n",
    "# ax.set_title(\"Elapsed time for Zig Basic and Zig Optimized\")\n",
    "ax.yaxis.grid(True, alpha=0.5)\n",
    "plt.show()\n"
   ]
  },
  {
   "cell_type": "code",
   "execution_count": 48,
   "metadata": {},
   "outputs": [],
   "source": [
    "df_basic_12 = get_time_data('../compared_perf/basic_12.txt',\n",
    "                     #   \"elapsed\"\n",
    "                       \"Zig Basic 12 TS\"\n",
    "                       )\n",
    "df_opt_12 = get_time_data('../compared_perf/opt_12.txt',\n",
    "                     #   \"elapsed\"\n",
    "                       \"Zig Optimized 12 TS\"\n",
    "                       )"
   ]
  },
  {
   "cell_type": "code",
   "execution_count": 67,
   "metadata": {},
   "outputs": [
    {
     "name": "stderr",
     "output_type": "stream",
     "text": [
      "C:\\Users\\Nando\\AppData\\Local\\Temp\\ipykernel_18044\\2559644606.py:38: UserWarning: set_ticklabels() should only be used with a fixed number of ticks, i.e. after set_ticks() or using a FixedLocator.\n",
      "  ax.set_yticklabels(ax.get_yticks(), fontsize=12)\n"
     ]
    },
    {
     "data": {
      "image/png": "[encoded data removed]",
      "text/plain": [
       "<Figure size 1500x1000 with 1 Axes>"
      ]
     },
     "metadata": {},
     "output_type": "display_data"
    }
   ],
   "source": [
    "bar_width = .4\n",
    "opacity = 0.8\n",
    "bar_offset = 0\n",
    "x_len = df_basic.shape[0]\n",
    "\n",
    "x = np.arange(x_len) + bar_offset\n",
    "\n",
    "fig, ax = plt.subplots(1,1, figsize=(15,10))\n",
    "\n",
    "ax.bar(\n",
    "        x + bar_width * .5 , \n",
    "        df_basic_12[\"Zig Basic 12 TS\"].astype(int), \n",
    "        width=bar_width, \n",
    "        color='#ffff00', \n",
    "\n",
    "        alpha=opacity, \n",
    "        # edgecolor='black', \n",
    "        label='Zig Basic 12 TS'\n",
    "        )\n",
    "\n",
    "\n",
    "ax.bar(\n",
    "        x - bar_width * .5, \n",
    "        df_opt_12[\"Zig Optimized 12 TS\"].astype(int),\n",
    "        width=bar_width, \n",
    "        color='#000000',  \n",
    "        alpha=opacity, \n",
    "        # edgecolor='black', \n",
    "        label='Zig Optimaized 12 TS')\n",
    "# ax.semilogx()\n",
    "ax.legend(fontsize=20)\n",
    "ax.set_xlim([-bar_width * 1.5 , x_len - bar_width ])\n",
    "\n",
    "ax.tick_params(axis='x', labelrotation=90)\n",
    "np.arange(0, 11, step=1)\n",
    "ax.set_xticks(np.arange(42),df_basic[\"tws size\"], fontsize=12)\n",
    "ax.set_xlabel(\"Time scales\", fontsize=20)\n",
    "ax.set_yticklabels(ax.get_yticks(), fontsize=12)\n",
    "ax.set_ylabel(\"Elapsed time (mili seconds)\", fontsize=20)\n",
    "# ax.set_title(\"Elapsed time for Zig Basic and Zig Optimized\")\n",
    "ax.yaxis.grid(True, alpha=0.5)\n",
    "plt.show()"
   ]
  },
  {
   "cell_type": "code",
   "execution_count": 55,
   "metadata": {},
   "outputs": [],
   "source": [
    "def perf_inc(value, reference):\n",
    "    return ((value - reference) / reference) * 100"
   ]
  },
  {
   "cell_type": "code",
   "execution_count": 62,
   "metadata": {},
   "outputs": [
    {
     "data": {
      "text/plain": [
       "0      83.333333\n",
       "1      46.153846\n",
       "2      50.000000\n",
       "3      40.476190\n",
       "4      50.000000\n",
       "5      60.869565\n",
       "6     115.000000\n",
       "7      78.082192\n",
       "8      52.439024\n",
       "9      86.746988\n",
       "10     50.467290\n",
       "11     60.550459\n",
       "12     49.612403\n",
       "13      7.804878\n",
       "14     68.292683\n",
       "15     76.111111\n",
       "16     73.831776\n",
       "17     89.285714\n",
       "18     57.303371\n",
       "19     66.896552\n",
       "20     66.172107\n",
       "21     85.294118\n",
       "22     89.294404\n",
       "23    107.081545\n",
       "24     94.573643\n",
       "25     80.952381\n",
       "26     87.892377\n",
       "27     94.078947\n",
       "28     90.898618\n",
       "29     67.769477\n",
       "30     70.694577\n",
       "31     64.794635\n",
       "32     64.280388\n",
       "33     60.830671\n",
       "34     50.719027\n",
       "35     47.535383\n",
       "36     57.619477\n",
       "37     32.136572\n",
       "38     57.677761\n",
       "39     73.562024\n",
       "40     70.826527\n",
       "41     75.568685\n",
       "dtype: float64"
      ]
     },
     "execution_count": 62,
     "metadata": {},
     "output_type": "execute_result"
    }
   ],
   "source": [
    "perf_inc(df_04.iloc[:,1].astype(float), df_04.iloc[:,2].astype(float))"
   ]
  }
 ],
 "metadata": {
  "kernelspec": {
   "display_name": ".venv",
   "language": "python",
   "name": "python3"
  },
  "language_info": {
   "codemirror_mode": {
    "name": "ipython",
    "version": 3
   },
   "file_extension": ".py",
   "mimetype": "text/x-python",
   "name": "python",
   "nbconvert_exporter": "python",
   "pygments_lexer": "ipython3",
   "version": "3.12.4"
  }
 },
 "nbformat": 4,
 "nbformat_minor": 2
}
